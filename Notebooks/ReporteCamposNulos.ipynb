{
 "cells": [
  {
   "cell_type": "code",
   "execution_count": 1,
   "id": "cc916888-fa37-423f-bdec-390ecdca9244",
   "metadata": {},
   "outputs": [],
   "source": [
    "import warnings\n",
    "import pandas as pd\n",
    "import io"
   ]
  },
  {
   "cell_type": "code",
   "execution_count": null,
   "id": "c419e318-33f6-44b2-ab40-54497fc7e0a8",
   "metadata": {},
   "outputs": [],
   "source": []
  },
  {
   "cell_type": "code",
   "execution_count": 2,
   "id": "0ac6fb8f-009a-4173-859d-a34470760d04",
   "metadata": {},
   "outputs": [],
   "source": [
    "# crear archivo"
   ]
  },
  {
   "cell_type": "code",
   "execution_count": null,
   "id": "e81e2324-8d70-4b65-ad39-14cb549f3294",
   "metadata": {},
   "outputs": [],
   "source": []
  },
  {
   "cell_type": "code",
   "execution_count": null,
   "id": "b17982c7-0f66-48bc-a0fc-e0634fd5d053",
   "metadata": {},
   "outputs": [],
   "source": [
    "# Para los campos: ........ de PAMI_file se encontraron valores nulos en las siguientes filas :"
   ]
  },
  {
   "cell_type": "code",
   "execution_count": 15,
   "id": "0cc584df-c0f8-48bf-a10e-11cc7b75fd1e",
   "metadata": {},
   "outputs": [],
   "source": [
    "\n"
   ]
  },
  {
   "cell_type": "code",
   "execution_count": 2,
   "id": "c61b8d8e-b92c-416e-81eb-6eb0d85a8e82",
   "metadata": {},
   "outputs": [],
   "source": [
    "def pami_nulls_alert(file: pd.DataFrame, nulls_fields: list):\n",
    "    warnings.warn(\"Los siguientes campos contienen valores nulos: {}\".format(nulls_fields))\n",
    "    with io.open('Campos-nulos.csv', 'w', encoding=\"utf-8\") as pami_null_err:\n",
    "        pami_null_err.write(file)\n",
    "    "
   ]
  },
  {
   "cell_type": "code",
   "execution_count": null,
   "id": "f1047933-b741-4a0f-9078-6eb4f22aeec4",
   "metadata": {},
   "outputs": [],
   "source": []
  },
  {
   "cell_type": "code",
   "execution_count": null,
   "id": "88481534-555d-4381-b50a-3c18397006b9",
   "metadata": {},
   "outputs": [],
   "source": []
  },
  {
   "cell_type": "code",
   "execution_count": null,
   "id": "0f8ad4ed-3013-4061-86f6-d7fc29839d95",
   "metadata": {},
   "outputs": [],
   "source": []
  },
  {
   "cell_type": "code",
   "execution_count": 6,
   "id": "e087f7e6-9e2c-4d49-b3fd-9ed29b50a466",
   "metadata": {},
   "outputs": [],
   "source": [
    "# Para los campos: ........ de SQL_file se encontraron valores nulos en las siguientes filas:"
   ]
  },
  {
   "cell_type": "code",
   "execution_count": null,
   "id": "af8dc500-86a5-4f00-a923-3b9a5aa93384",
   "metadata": {},
   "outputs": [],
   "source": []
  },
  {
   "cell_type": "code",
   "execution_count": null,
   "id": "58fa69ee-d82c-4371-8437-d8bcd15c89a4",
   "metadata": {},
   "outputs": [],
   "source": []
  },
  {
   "cell_type": "code",
   "execution_count": 5,
   "id": "7eb59e7d-657f-408c-bd59-a49d0b81015b",
   "metadata": {},
   "outputs": [],
   "source": [
    "# cerrar archivo"
   ]
  },
  {
   "cell_type": "code",
   "execution_count": null,
   "id": "74269b2c-bb33-4913-b515-19c4a728ca07",
   "metadata": {},
   "outputs": [],
   "source": []
  },
  {
   "cell_type": "code",
   "execution_count": null,
   "id": "c45eb12c-98a8-4df1-85f5-d53e72c77108",
   "metadata": {},
   "outputs": [],
   "source": []
  }
 ],
 "metadata": {
  "kernelspec": {
   "display_name": "Python 3",
   "language": "python",
   "name": "python3"
  },
  "language_info": {
   "codemirror_mode": {
    "name": "ipython",
    "version": 3
   },
   "file_extension": ".py",
   "mimetype": "text/x-python",
   "name": "python",
   "nbconvert_exporter": "python",
   "pygments_lexer": "ipython3",
   "version": "3.8.8"
  }
 },
 "nbformat": 4,
 "nbformat_minor": 5
}
