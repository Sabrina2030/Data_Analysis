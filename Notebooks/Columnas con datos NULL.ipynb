{
 "cells": [
  {
   "cell_type": "code",
   "execution_count": 3,
   "id": "7e092eb5",
   "metadata": {},
   "outputs": [],
   "source": [
    "import pandas as pd\n",
    "import numpy as np"
   ]
  },
  {
   "cell_type": "code",
   "execution_count": 4,
   "id": "234822ce",
   "metadata": {},
   "outputs": [],
   "source": [
    "#base sgl\n",
    "baseSql = pd.read_csv('datos/202106/2021-06_ KUNAN.xls - Base SQL.csv')"
   ]
  },
  {
   "cell_type": "code",
   "execution_count": 6,
   "id": "807c5e0c",
   "metadata": {},
   "outputs": [],
   "source": [
    "valores_=baseSql[['nombre', 'tipodoc','numdoc','sexo','fecha_nacimiento','afiliado', 'grado_paren']]"
   ]
  },
  {
   "cell_type": "code",
   "execution_count": 7,
   "id": "1efd3e6d",
   "metadata": {},
   "outputs": [
    {
     "data": {
      "text/html": [
       "<div>\n",
       "<style scoped>\n",
       "    .dataframe tbody tr th:only-of-type {\n",
       "        vertical-align: middle;\n",
       "    }\n",
       "\n",
       "    .dataframe tbody tr th {\n",
       "        vertical-align: top;\n",
       "    }\n",
       "\n",
       "    .dataframe thead th {\n",
       "        text-align: right;\n",
       "    }\n",
       "</style>\n",
       "<table border=\"1\" class=\"dataframe\">\n",
       "  <thead>\n",
       "    <tr style=\"text-align: right;\">\n",
       "      <th></th>\n",
       "      <th>nombre</th>\n",
       "      <th>tipodoc</th>\n",
       "      <th>numdoc</th>\n",
       "      <th>sexo</th>\n",
       "      <th>fecha_nacimiento</th>\n",
       "      <th>afiliado</th>\n",
       "      <th>grado_paren</th>\n",
       "    </tr>\n",
       "  </thead>\n",
       "  <tbody>\n",
       "    <tr>\n",
       "      <th>0</th>\n",
       "      <td>ABALLAY MIGUEL ANGEL</td>\n",
       "      <td>DI</td>\n",
       "      <td>7975217</td>\n",
       "      <td>M</td>\n",
       "      <td>23/10/1943</td>\n",
       "      <td>150410698405</td>\n",
       "      <td>0</td>\n",
       "    </tr>\n",
       "    <tr>\n",
       "      <th>1</th>\n",
       "      <td>ABALLAY MIGUEL ANGEL</td>\n",
       "      <td>DI</td>\n",
       "      <td>7975217</td>\n",
       "      <td>M</td>\n",
       "      <td>23/10/1943</td>\n",
       "      <td>150410698405</td>\n",
       "      <td>0</td>\n",
       "    </tr>\n",
       "    <tr>\n",
       "      <th>2</th>\n",
       "      <td>ABALLAY MIGUEL ANGEL</td>\n",
       "      <td>DI</td>\n",
       "      <td>7975217</td>\n",
       "      <td>M</td>\n",
       "      <td>23/10/1943</td>\n",
       "      <td>150410698405</td>\n",
       "      <td>0</td>\n",
       "    </tr>\n",
       "    <tr>\n",
       "      <th>3</th>\n",
       "      <td>ABALLAY MIGUEL ANGEL</td>\n",
       "      <td>DI</td>\n",
       "      <td>7975217</td>\n",
       "      <td>M</td>\n",
       "      <td>23/10/1943</td>\n",
       "      <td>150410698405</td>\n",
       "      <td>0</td>\n",
       "    </tr>\n",
       "    <tr>\n",
       "      <th>4</th>\n",
       "      <td>ABALLAY MIGUEL ANGEL</td>\n",
       "      <td>DI</td>\n",
       "      <td>7975217</td>\n",
       "      <td>M</td>\n",
       "      <td>23/10/1943</td>\n",
       "      <td>150410698405</td>\n",
       "      <td>0</td>\n",
       "    </tr>\n",
       "    <tr>\n",
       "      <th>...</th>\n",
       "      <td>...</td>\n",
       "      <td>...</td>\n",
       "      <td>...</td>\n",
       "      <td>...</td>\n",
       "      <td>...</td>\n",
       "      <td>...</td>\n",
       "      <td>...</td>\n",
       "    </tr>\n",
       "    <tr>\n",
       "      <th>11321</th>\n",
       "      <td>ZARATE ANTONIA ELIDE</td>\n",
       "      <td>DI</td>\n",
       "      <td>3601270</td>\n",
       "      <td>F</td>\n",
       "      <td>28/7/1934</td>\n",
       "      <td>150199396202</td>\n",
       "      <td>0</td>\n",
       "    </tr>\n",
       "    <tr>\n",
       "      <th>11322</th>\n",
       "      <td>ZARATE ANTONIA ELIDE</td>\n",
       "      <td>DI</td>\n",
       "      <td>3601270</td>\n",
       "      <td>F</td>\n",
       "      <td>28/7/1934</td>\n",
       "      <td>150199396202</td>\n",
       "      <td>0</td>\n",
       "    </tr>\n",
       "    <tr>\n",
       "      <th>11323</th>\n",
       "      <td>ZARATE ANTONIA ELIDE</td>\n",
       "      <td>DI</td>\n",
       "      <td>3601270</td>\n",
       "      <td>F</td>\n",
       "      <td>28/7/1934</td>\n",
       "      <td>150199396202</td>\n",
       "      <td>0</td>\n",
       "    </tr>\n",
       "    <tr>\n",
       "      <th>11324</th>\n",
       "      <td>ZARATE ANTONIA ELIDE</td>\n",
       "      <td>DI</td>\n",
       "      <td>3601270</td>\n",
       "      <td>F</td>\n",
       "      <td>28/7/1934</td>\n",
       "      <td>150199396202</td>\n",
       "      <td>0</td>\n",
       "    </tr>\n",
       "    <tr>\n",
       "      <th>11325</th>\n",
       "      <td>ZARATE ANTONIA ELIDE</td>\n",
       "      <td>DI</td>\n",
       "      <td>3601270</td>\n",
       "      <td>F</td>\n",
       "      <td>28/7/1934</td>\n",
       "      <td>150199396202</td>\n",
       "      <td>0</td>\n",
       "    </tr>\n",
       "  </tbody>\n",
       "</table>\n",
       "<p>11326 rows × 7 columns</p>\n",
       "</div>"
      ],
      "text/plain": [
       "                     nombre tipodoc   numdoc sexo fecha_nacimiento  \\\n",
       "0      ABALLAY MIGUEL ANGEL      DI  7975217    M       23/10/1943   \n",
       "1      ABALLAY MIGUEL ANGEL      DI  7975217    M       23/10/1943   \n",
       "2      ABALLAY MIGUEL ANGEL      DI  7975217    M       23/10/1943   \n",
       "3      ABALLAY MIGUEL ANGEL      DI  7975217    M       23/10/1943   \n",
       "4      ABALLAY MIGUEL ANGEL      DI  7975217    M       23/10/1943   \n",
       "...                     ...     ...      ...  ...              ...   \n",
       "11321  ZARATE ANTONIA ELIDE      DI  3601270    F        28/7/1934   \n",
       "11322  ZARATE ANTONIA ELIDE      DI  3601270    F        28/7/1934   \n",
       "11323  ZARATE ANTONIA ELIDE      DI  3601270    F        28/7/1934   \n",
       "11324  ZARATE ANTONIA ELIDE      DI  3601270    F        28/7/1934   \n",
       "11325  ZARATE ANTONIA ELIDE      DI  3601270    F        28/7/1934   \n",
       "\n",
       "           afiliado  grado_paren  \n",
       "0      150410698405            0  \n",
       "1      150410698405            0  \n",
       "2      150410698405            0  \n",
       "3      150410698405            0  \n",
       "4      150410698405            0  \n",
       "...             ...          ...  \n",
       "11321  150199396202            0  \n",
       "11322  150199396202            0  \n",
       "11323  150199396202            0  \n",
       "11324  150199396202            0  \n",
       "11325  150199396202            0  \n",
       "\n",
       "[11326 rows x 7 columns]"
      ]
     },
     "execution_count": 7,
     "metadata": {},
     "output_type": "execute_result"
    }
   ],
   "source": [
    "valores_"
   ]
  },
  {
   "cell_type": "code",
   "execution_count": 8,
   "id": "400e6107",
   "metadata": {},
   "outputs": [
    {
     "data": {
      "text/plain": [
       "nombre              0\n",
       "tipodoc             0\n",
       "numdoc              0\n",
       "sexo                0\n",
       "fecha_nacimiento    0\n",
       "afiliado            0\n",
       "grado_paren         0\n",
       "dtype: int64"
      ]
     },
     "execution_count": 8,
     "metadata": {},
     "output_type": "execute_result"
    }
   ],
   "source": [
    "valores_.isnull().sum()"
   ]
  },
  {
   "cell_type": "code",
   "execution_count": 9,
   "id": "f06812aa",
   "metadata": {},
   "outputs": [],
   "source": [
    "#base del Pami\n",
    "pami = pd.read_csv('datos/202106/2021-06_ KUNAN.xls - app Pami .csv')"
   ]
  },
  {
   "cell_type": "code",
   "execution_count": 10,
   "id": "e2c9e6fc",
   "metadata": {},
   "outputs": [
    {
     "data": {
      "text/plain": [
       "N° de Visita                                0\n",
       "Estado                                      0\n",
       "Fecha comienzo                              0\n",
       "Fecha fin                                   0\n",
       "Duración                                    0\n",
       "Celular persona afiliada                    0\n",
       "N° afiliación                               2\n",
       "Nombre persona afiliada                     2\n",
       "DNI del responsable de la visita            0\n",
       "Responsable de la visita                    0\n",
       "N° matrícula responsable de la visita    1138\n",
       "Tipo servicio prestador                     0\n",
       "Email responsable de la visita              0\n",
       "Razón social de Empresa Prestadora          0\n",
       "SAP de Empresa Prestadora                   0\n",
       "UGL de Empresa Prestadora                   0\n",
       "dtype: int64"
      ]
     },
     "execution_count": 10,
     "metadata": {},
     "output_type": "execute_result"
    }
   ],
   "source": [
    "pami.isnull().sum()"
   ]
  },
  {
   "cell_type": "code",
   "execution_count": 11,
   "id": "bc1c1ac6",
   "metadata": {},
   "outputs": [
    {
     "data": {
      "text/plain": [
       "N° de Visita                             False\n",
       "Estado                                   False\n",
       "Fecha comienzo                           False\n",
       "Fecha fin                                False\n",
       "Duración                                 False\n",
       "Celular persona afiliada                 False\n",
       "N° afiliación                             True\n",
       "Nombre persona afiliada                   True\n",
       "DNI del responsable de la visita         False\n",
       "Responsable de la visita                 False\n",
       "N° matrícula responsable de la visita     True\n",
       "Tipo servicio prestador                  False\n",
       "Email responsable de la visita           False\n",
       "Razón social de Empresa Prestadora       False\n",
       "SAP de Empresa Prestadora                False\n",
       "UGL de Empresa Prestadora                False\n",
       "dtype: bool"
      ]
     },
     "execution_count": 11,
     "metadata": {},
     "output_type": "execute_result"
    }
   ],
   "source": [
    "#any trae los true si son nulos\n",
    "pami.isnull().any()"
   ]
  },
  {
   "cell_type": "code",
   "execution_count": 100,
   "id": "f363af72",
   "metadata": {},
   "outputs": [],
   "source": [
    "#renombrar columnas para poder acceder luego\n",
    "pami.columns = ['NVisita','Estado', 'FechaInc','FechaFin','Duracion','Celular','NAfiliacion','Nombre','DNI','Responsable','Matricula','Prestador','Email','RazonSocial','SAP','UGL']\n"
   ]
  },
  {
   "cell_type": "code",
   "execution_count": 101,
   "id": "97213399",
   "metadata": {},
   "outputs": [
    {
     "data": {
      "text/plain": [
       "Index(['NVisita', 'Estado', 'FechaInc', 'FechaFin', 'Duracion', 'Celular',\n",
       "       'NAfiliacion', 'Nombre', 'DNI', 'Responsable', 'Matricula', 'Prestador',\n",
       "       'Email', 'RazonSocial', 'SAP', 'UGL'],\n",
       "      dtype='object')"
      ]
     },
     "execution_count": 101,
     "metadata": {},
     "output_type": "execute_result"
    }
   ],
   "source": [
    "pami.columns"
   ]
  },
  {
   "cell_type": "code",
   "execution_count": 102,
   "id": "2306397f",
   "metadata": {},
   "outputs": [],
   "source": [
    "valores_nulos_pami = pami [['NAfiliacion','Nombre','DNI',]]"
   ]
  },
  {
   "cell_type": "code",
   "execution_count": 103,
   "id": "4805a929",
   "metadata": {},
   "outputs": [
    {
     "data": {
      "text/plain": [
       "NAfiliacion    2\n",
       "Nombre         2\n",
       "DNI            0\n",
       "dtype: int64"
      ]
     },
     "execution_count": 103,
     "metadata": {},
     "output_type": "execute_result"
    }
   ],
   "source": [
    "valores_nulos_pami.isnull().sum()\n"
   ]
  },
  {
   "cell_type": "code",
   "execution_count": 104,
   "id": "3695222d",
   "metadata": {},
   "outputs": [
    {
     "data": {
      "text/html": [
       "<div>\n",
       "<style scoped>\n",
       "    .dataframe tbody tr th:only-of-type {\n",
       "        vertical-align: middle;\n",
       "    }\n",
       "\n",
       "    .dataframe tbody tr th {\n",
       "        vertical-align: top;\n",
       "    }\n",
       "\n",
       "    .dataframe thead th {\n",
       "        text-align: right;\n",
       "    }\n",
       "</style>\n",
       "<table border=\"1\" class=\"dataframe\">\n",
       "  <thead>\n",
       "    <tr style=\"text-align: right;\">\n",
       "      <th></th>\n",
       "      <th>NAfiliacion</th>\n",
       "      <th>Nombre</th>\n",
       "      <th>DNI</th>\n",
       "    </tr>\n",
       "  </thead>\n",
       "  <tbody>\n",
       "    <tr>\n",
       "      <th>0</th>\n",
       "      <td>1.507742e+13</td>\n",
       "      <td>BUSTOS JUAN JOSE</td>\n",
       "      <td>36187718</td>\n",
       "    </tr>\n",
       "    <tr>\n",
       "      <th>1</th>\n",
       "      <td>1.502981e+13</td>\n",
       "      <td>PAVON MARTA NOEMI</td>\n",
       "      <td>31556997</td>\n",
       "    </tr>\n",
       "    <tr>\n",
       "      <th>2</th>\n",
       "      <td>9.595341e+12</td>\n",
       "      <td>GAUTA CELIA MARTINA</td>\n",
       "      <td>26448117</td>\n",
       "    </tr>\n",
       "    <tr>\n",
       "      <th>3</th>\n",
       "      <td>1.501929e+13</td>\n",
       "      <td>CONTRERA REIMUNDA DELICIA</td>\n",
       "      <td>34621138</td>\n",
       "    </tr>\n",
       "    <tr>\n",
       "      <th>4</th>\n",
       "      <td>1.502615e+13</td>\n",
       "      <td>GONZALEZ MARIA ROSA</td>\n",
       "      <td>16827652</td>\n",
       "    </tr>\n",
       "    <tr>\n",
       "      <th>...</th>\n",
       "      <td>...</td>\n",
       "      <td>...</td>\n",
       "      <td>...</td>\n",
       "    </tr>\n",
       "    <tr>\n",
       "      <th>8572</th>\n",
       "      <td>1.558042e+13</td>\n",
       "      <td>ARIAS SUSANA DEL CARMEN</td>\n",
       "      <td>16827652</td>\n",
       "    </tr>\n",
       "    <tr>\n",
       "      <th>8573</th>\n",
       "      <td>1.503379e+13</td>\n",
       "      <td>PARISE MAFALDA</td>\n",
       "      <td>34356403</td>\n",
       "    </tr>\n",
       "    <tr>\n",
       "      <th>8574</th>\n",
       "      <td>1.506716e+13</td>\n",
       "      <td>TULA MARTA DEL VALLE</td>\n",
       "      <td>16827652</td>\n",
       "    </tr>\n",
       "    <tr>\n",
       "      <th>8575</th>\n",
       "      <td>1.558042e+13</td>\n",
       "      <td>ARIAS SUSANA DEL CARMEN</td>\n",
       "      <td>26904513</td>\n",
       "    </tr>\n",
       "    <tr>\n",
       "      <th>8576</th>\n",
       "      <td>1.400066e+13</td>\n",
       "      <td>JUNCOS LILIANA DEL VALLE</td>\n",
       "      <td>42692716</td>\n",
       "    </tr>\n",
       "  </tbody>\n",
       "</table>\n",
       "<p>8577 rows × 3 columns</p>\n",
       "</div>"
      ],
      "text/plain": [
       "       NAfiliacion                     Nombre       DNI\n",
       "0     1.507742e+13           BUSTOS JUAN JOSE  36187718\n",
       "1     1.502981e+13          PAVON MARTA NOEMI  31556997\n",
       "2     9.595341e+12        GAUTA CELIA MARTINA  26448117\n",
       "3     1.501929e+13  CONTRERA REIMUNDA DELICIA  34621138\n",
       "4     1.502615e+13        GONZALEZ MARIA ROSA  16827652\n",
       "...            ...                        ...       ...\n",
       "8572  1.558042e+13    ARIAS SUSANA DEL CARMEN  16827652\n",
       "8573  1.503379e+13             PARISE MAFALDA  34356403\n",
       "8574  1.506716e+13       TULA MARTA DEL VALLE  16827652\n",
       "8575  1.558042e+13    ARIAS SUSANA DEL CARMEN  26904513\n",
       "8576  1.400066e+13   JUNCOS LILIANA DEL VALLE  42692716\n",
       "\n",
       "[8577 rows x 3 columns]"
      ]
     },
     "execution_count": 104,
     "metadata": {},
     "output_type": "execute_result"
    }
   ],
   "source": [
    "valores_nulos_pami"
   ]
  },
  {
   "cell_type": "code",
   "execution_count": 105,
   "id": "c5a1f610",
   "metadata": {},
   "outputs": [
    {
     "data": {
      "text/plain": [
       "'/home/sabri/Escritorio/EnCasa/proyecto_encasa/en-casa-presentaciones-pami'"
      ]
     },
     "execution_count": 105,
     "metadata": {},
     "output_type": "execute_result"
    }
   ],
   "source": [
    "pwd"
   ]
  },
  {
   "cell_type": "code",
   "execution_count": null,
   "id": "b0be4b67",
   "metadata": {},
   "outputs": [],
   "source": [
    "#Creo un archivo de salida"
   ]
  },
  {
   "cell_type": "code",
   "execution_count": 106,
   "id": "a9cab5e3",
   "metadata": {},
   "outputs": [],
   "source": [
    "valores_nulos_pami.reset_index().to_csv('Datos faltantes.csv',header=True, index=False)"
   ]
  },
  {
   "cell_type": "code",
   "execution_count": 107,
   "id": "ca255cb7",
   "metadata": {},
   "outputs": [
    {
     "data": {
      "text/html": [
       "<div>\n",
       "<style scoped>\n",
       "    .dataframe tbody tr th:only-of-type {\n",
       "        vertical-align: middle;\n",
       "    }\n",
       "\n",
       "    .dataframe tbody tr th {\n",
       "        vertical-align: top;\n",
       "    }\n",
       "\n",
       "    .dataframe thead th {\n",
       "        text-align: right;\n",
       "    }\n",
       "</style>\n",
       "<table border=\"1\" class=\"dataframe\">\n",
       "  <thead>\n",
       "    <tr style=\"text-align: right;\">\n",
       "      <th></th>\n",
       "      <th>NAfiliacion</th>\n",
       "      <th>Nombre</th>\n",
       "      <th>DNI</th>\n",
       "    </tr>\n",
       "  </thead>\n",
       "  <tbody>\n",
       "    <tr>\n",
       "      <th>0</th>\n",
       "      <td>1.507742e+13</td>\n",
       "      <td>BUSTOS JUAN JOSE</td>\n",
       "      <td>36187718</td>\n",
       "    </tr>\n",
       "    <tr>\n",
       "      <th>1</th>\n",
       "      <td>1.502981e+13</td>\n",
       "      <td>PAVON MARTA NOEMI</td>\n",
       "      <td>31556997</td>\n",
       "    </tr>\n",
       "    <tr>\n",
       "      <th>2</th>\n",
       "      <td>9.595341e+12</td>\n",
       "      <td>GAUTA CELIA MARTINA</td>\n",
       "      <td>26448117</td>\n",
       "    </tr>\n",
       "    <tr>\n",
       "      <th>3</th>\n",
       "      <td>1.501929e+13</td>\n",
       "      <td>CONTRERA REIMUNDA DELICIA</td>\n",
       "      <td>34621138</td>\n",
       "    </tr>\n",
       "    <tr>\n",
       "      <th>4</th>\n",
       "      <td>1.502615e+13</td>\n",
       "      <td>GONZALEZ MARIA ROSA</td>\n",
       "      <td>16827652</td>\n",
       "    </tr>\n",
       "    <tr>\n",
       "      <th>...</th>\n",
       "      <td>...</td>\n",
       "      <td>...</td>\n",
       "      <td>...</td>\n",
       "    </tr>\n",
       "    <tr>\n",
       "      <th>8572</th>\n",
       "      <td>1.558042e+13</td>\n",
       "      <td>ARIAS SUSANA DEL CARMEN</td>\n",
       "      <td>16827652</td>\n",
       "    </tr>\n",
       "    <tr>\n",
       "      <th>8573</th>\n",
       "      <td>1.503379e+13</td>\n",
       "      <td>PARISE MAFALDA</td>\n",
       "      <td>34356403</td>\n",
       "    </tr>\n",
       "    <tr>\n",
       "      <th>8574</th>\n",
       "      <td>1.506716e+13</td>\n",
       "      <td>TULA MARTA DEL VALLE</td>\n",
       "      <td>16827652</td>\n",
       "    </tr>\n",
       "    <tr>\n",
       "      <th>8575</th>\n",
       "      <td>1.558042e+13</td>\n",
       "      <td>ARIAS SUSANA DEL CARMEN</td>\n",
       "      <td>26904513</td>\n",
       "    </tr>\n",
       "    <tr>\n",
       "      <th>8576</th>\n",
       "      <td>1.400066e+13</td>\n",
       "      <td>JUNCOS LILIANA DEL VALLE</td>\n",
       "      <td>42692716</td>\n",
       "    </tr>\n",
       "  </tbody>\n",
       "</table>\n",
       "<p>8577 rows × 3 columns</p>\n",
       "</div>"
      ],
      "text/plain": [
       "       NAfiliacion                     Nombre       DNI\n",
       "0     1.507742e+13           BUSTOS JUAN JOSE  36187718\n",
       "1     1.502981e+13          PAVON MARTA NOEMI  31556997\n",
       "2     9.595341e+12        GAUTA CELIA MARTINA  26448117\n",
       "3     1.501929e+13  CONTRERA REIMUNDA DELICIA  34621138\n",
       "4     1.502615e+13        GONZALEZ MARIA ROSA  16827652\n",
       "...            ...                        ...       ...\n",
       "8572  1.558042e+13    ARIAS SUSANA DEL CARMEN  16827652\n",
       "8573  1.503379e+13             PARISE MAFALDA  34356403\n",
       "8574  1.506716e+13       TULA MARTA DEL VALLE  16827652\n",
       "8575  1.558042e+13    ARIAS SUSANA DEL CARMEN  26904513\n",
       "8576  1.400066e+13   JUNCOS LILIANA DEL VALLE  42692716\n",
       "\n",
       "[8577 rows x 3 columns]"
      ]
     },
     "execution_count": 107,
     "metadata": {},
     "output_type": "execute_result"
    }
   ],
   "source": [
    "valores_nulos_pami"
   ]
  },
  {
   "cell_type": "code",
   "execution_count": 108,
   "id": "f9d93f11",
   "metadata": {},
   "outputs": [
    {
     "data": {
      "text/plain": [
       "4"
      ]
     },
     "execution_count": 108,
     "metadata": {},
     "output_type": "execute_result"
    }
   ],
   "source": [
    "valores_nulos_pami.isnull().sum().sum()"
   ]
  },
  {
   "cell_type": "code",
   "execution_count": 109,
   "id": "03aa3dd7",
   "metadata": {},
   "outputs": [
    {
     "data": {
      "text/plain": [
       "NAfiliacion     True\n",
       "Nombre          True\n",
       "DNI            False\n",
       "dtype: bool"
      ]
     },
     "execution_count": 109,
     "metadata": {},
     "output_type": "execute_result"
    }
   ],
   "source": [
    "valores_nulos_pami.isnull().any()"
   ]
  },
  {
   "cell_type": "code",
   "execution_count": 110,
   "id": "707941fe",
   "metadata": {},
   "outputs": [
    {
     "name": "stdout",
     "output_type": "stream",
     "text": [
      "      NAfiliacion Nombre\n",
      "1125          NaN    NaN\n",
      "6518          NaN    NaN\n"
     ]
    }
   ],
   "source": [
    "#Encuentro el indice de los nulos en el dataframe valores_nulos_pami\n",
    "null_columns=valores_nulos_pami.columns[valores_nulos_pami.isnull().any()]\n",
    "valores_nulos_pami[null_columns].isnull().sum()\n",
    "\n",
    "indx = (valores_nulos_pami[valores_nulos_pami.isnull().any(axis=1)][null_columns].head())\n",
    "print(indx)"
   ]
  },
  {
   "cell_type": "code",
   "execution_count": 121,
   "id": "8e80dc02",
   "metadata": {},
   "outputs": [],
   "source": [
    "data1 =pd.DataFrame(valores_nulos_pami.loc[1125])"
   ]
  },
  {
   "cell_type": "code",
   "execution_count": 123,
   "id": "6cc8cc69",
   "metadata": {},
   "outputs": [
    {
     "data": {
      "text/html": [
       "<div>\n",
       "<style scoped>\n",
       "    .dataframe tbody tr th:only-of-type {\n",
       "        vertical-align: middle;\n",
       "    }\n",
       "\n",
       "    .dataframe tbody tr th {\n",
       "        vertical-align: top;\n",
       "    }\n",
       "\n",
       "    .dataframe thead th {\n",
       "        text-align: right;\n",
       "    }\n",
       "</style>\n",
       "<table border=\"1\" class=\"dataframe\">\n",
       "  <thead>\n",
       "    <tr style=\"text-align: right;\">\n",
       "      <th></th>\n",
       "      <th>1125</th>\n",
       "    </tr>\n",
       "  </thead>\n",
       "  <tbody>\n",
       "    <tr>\n",
       "      <th>NAfiliacion</th>\n",
       "      <td>NaN</td>\n",
       "    </tr>\n",
       "    <tr>\n",
       "      <th>Nombre</th>\n",
       "      <td>NaN</td>\n",
       "    </tr>\n",
       "    <tr>\n",
       "      <th>DNI</th>\n",
       "      <td>34621138</td>\n",
       "    </tr>\n",
       "  </tbody>\n",
       "</table>\n",
       "</div>"
      ],
      "text/plain": [
       "                 1125\n",
       "NAfiliacion       NaN\n",
       "Nombre            NaN\n",
       "DNI          34621138"
      ]
     },
     "execution_count": 123,
     "metadata": {},
     "output_type": "execute_result"
    }
   ],
   "source": [
    "data1"
   ]
  },
  {
   "cell_type": "code",
   "execution_count": 122,
   "id": "b6651186",
   "metadata": {},
   "outputs": [],
   "source": [
    "data2 =pd.DataFrame(valores_nulos_pami.loc[6518])"
   ]
  },
  {
   "cell_type": "code",
   "execution_count": 128,
   "id": "38ee251b",
   "metadata": {},
   "outputs": [],
   "source": [
    "#merge\n",
    "Indice = pd.concat([data1,data2],axis=1,join='outer')"
   ]
  },
  {
   "cell_type": "code",
   "execution_count": 129,
   "id": "347a134a",
   "metadata": {},
   "outputs": [
    {
     "data": {
      "text/html": [
       "<div>\n",
       "<style scoped>\n",
       "    .dataframe tbody tr th:only-of-type {\n",
       "        vertical-align: middle;\n",
       "    }\n",
       "\n",
       "    .dataframe tbody tr th {\n",
       "        vertical-align: top;\n",
       "    }\n",
       "\n",
       "    .dataframe thead th {\n",
       "        text-align: right;\n",
       "    }\n",
       "</style>\n",
       "<table border=\"1\" class=\"dataframe\">\n",
       "  <thead>\n",
       "    <tr style=\"text-align: right;\">\n",
       "      <th></th>\n",
       "      <th>1125</th>\n",
       "      <th>6518</th>\n",
       "    </tr>\n",
       "  </thead>\n",
       "  <tbody>\n",
       "    <tr>\n",
       "      <th>NAfiliacion</th>\n",
       "      <td>NaN</td>\n",
       "      <td>NaN</td>\n",
       "    </tr>\n",
       "    <tr>\n",
       "      <th>Nombre</th>\n",
       "      <td>NaN</td>\n",
       "      <td>NaN</td>\n",
       "    </tr>\n",
       "    <tr>\n",
       "      <th>DNI</th>\n",
       "      <td>34621138</td>\n",
       "      <td>18434253</td>\n",
       "    </tr>\n",
       "  </tbody>\n",
       "</table>\n",
       "</div>"
      ],
      "text/plain": [
       "                 1125      6518\n",
       "NAfiliacion       NaN       NaN\n",
       "Nombre            NaN       NaN\n",
       "DNI          34621138  18434253"
      ]
     },
     "execution_count": 129,
     "metadata": {},
     "output_type": "execute_result"
    }
   ],
   "source": [
    "Indice "
   ]
  },
  {
   "cell_type": "code",
   "execution_count": 130,
   "id": "f9cddfe2",
   "metadata": {},
   "outputs": [],
   "source": [
    "#creo un archivo de salida con los datos faltantes\n",
    "Indice.to_csv('Datos que faltan.csv',header=True)"
   ]
  },
  {
   "cell_type": "code",
   "execution_count": null,
   "id": "12112718",
   "metadata": {},
   "outputs": [],
   "source": []
  }
 ],
 "metadata": {
  "kernelspec": {
   "display_name": "Python 3",
   "language": "python",
   "name": "python3"
  },
  "language_info": {
   "codemirror_mode": {
    "name": "ipython",
    "version": 3
   },
   "file_extension": ".py",
   "mimetype": "text/x-python",
   "name": "python",
   "nbconvert_exporter": "python",
   "pygments_lexer": "ipython3",
   "version": "3.8.8"
  }
 },
 "nbformat": 4,
 "nbformat_minor": 5
}
