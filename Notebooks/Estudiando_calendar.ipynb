{
 "cells": [
  {
   "cell_type": "code",
   "execution_count": 3,
   "id": "549f6760",
   "metadata": {},
   "outputs": [],
   "source": [
    "import pandas as pd\n",
    "import numpy as np\n",
    "from datetime import datetime, date\n",
    "import calendar as cl\n",
    "import calendar"
   ]
  },
  {
   "cell_type": "code",
   "execution_count": 4,
   "id": "d9f9b0bb",
   "metadata": {},
   "outputs": [],
   "source": [
    "def calendario(año,mes):\n",
    "    print(calendar.month(año,mes))\n",
    "    "
   ]
  },
  {
   "cell_type": "code",
   "execution_count": 5,
   "id": "c4a05461",
   "metadata": {},
   "outputs": [
    {
     "name": "stdout",
     "output_type": "stream",
     "text": [
      "     July 2021\n",
      "Mo Tu We Th Fr Sa Su\n",
      "          1  2  3  4\n",
      " 5  6  7  8  9 10 11\n",
      "12 13 14 15 16 17 18\n",
      "19 20 21 22 23 24 25\n",
      "26 27 28 29 30 31\n",
      "\n"
     ]
    }
   ],
   "source": [
    "calendario(2021,7)"
   ]
  },
  {
   "cell_type": "code",
   "execution_count": 6,
   "id": "562d168e",
   "metadata": {},
   "outputs": [],
   "source": [
    " def fechas_por_semana_del_mes(dt):\n",
    "    year = dt.year\n",
    "    month = dt.month\n",
    "    full_fechas = cl.Calendar()\n",
    "    full_fechas = full_fechas.monthdatescalendar(year, month)\n",
    "    return [ list(filter(lambda x: x.month == month, ls)) for ls in full_fechas ] \n"
   ]
  },
  {
   "cell_type": "code",
   "execution_count": 7,
   "id": "f5a97ade",
   "metadata": {},
   "outputs": [],
   "source": [
    "fechas = fechas_por_semana_del_mes(datetime(2021, 7, 1))"
   ]
  },
  {
   "cell_type": "code",
   "execution_count": 8,
   "id": "167df1f0",
   "metadata": {},
   "outputs": [
    {
     "data": {
      "text/plain": [
       "[[datetime.date(2021, 7, 1),\n",
       "  datetime.date(2021, 7, 2),\n",
       "  datetime.date(2021, 7, 3),\n",
       "  datetime.date(2021, 7, 4)],\n",
       " [datetime.date(2021, 7, 5),\n",
       "  datetime.date(2021, 7, 6),\n",
       "  datetime.date(2021, 7, 7),\n",
       "  datetime.date(2021, 7, 8),\n",
       "  datetime.date(2021, 7, 9),\n",
       "  datetime.date(2021, 7, 10),\n",
       "  datetime.date(2021, 7, 11)],\n",
       " [datetime.date(2021, 7, 12),\n",
       "  datetime.date(2021, 7, 13),\n",
       "  datetime.date(2021, 7, 14),\n",
       "  datetime.date(2021, 7, 15),\n",
       "  datetime.date(2021, 7, 16),\n",
       "  datetime.date(2021, 7, 17),\n",
       "  datetime.date(2021, 7, 18)],\n",
       " [datetime.date(2021, 7, 19),\n",
       "  datetime.date(2021, 7, 20),\n",
       "  datetime.date(2021, 7, 21),\n",
       "  datetime.date(2021, 7, 22),\n",
       "  datetime.date(2021, 7, 23),\n",
       "  datetime.date(2021, 7, 24),\n",
       "  datetime.date(2021, 7, 25)],\n",
       " [datetime.date(2021, 7, 26),\n",
       "  datetime.date(2021, 7, 27),\n",
       "  datetime.date(2021, 7, 28),\n",
       "  datetime.date(2021, 7, 29),\n",
       "  datetime.date(2021, 7, 30),\n",
       "  datetime.date(2021, 7, 31)]]"
      ]
     },
     "execution_count": 8,
     "metadata": {},
     "output_type": "execute_result"
    }
   ],
   "source": [
    "fechas"
   ]
  },
  {
   "cell_type": "code",
   "execution_count": 9,
   "id": "9dbef183",
   "metadata": {},
   "outputs": [
    {
     "data": {
      "text/plain": [
       "5"
      ]
     },
     "execution_count": 9,
     "metadata": {},
     "output_type": "execute_result"
    }
   ],
   "source": [
    "len(fechas)"
   ]
  },
  {
   "cell_type": "code",
   "execution_count": 10,
   "id": "2678635b",
   "metadata": {},
   "outputs": [],
   "source": [
    "semana1 = fechas[0]\n",
    "semana2 = fechas[1]\n",
    "semana3 = fechas[2]\n",
    "semana4 = fechas[3]\n",
    "semana5 = fechas[4]"
   ]
  },
  {
   "cell_type": "code",
   "execution_count": 11,
   "id": "f65b4048",
   "metadata": {},
   "outputs": [],
   "source": [
    "#doy vuelta la semana y obtengo ultimos dias de la semna\n",
    "def findes_por_semana(sem):\n",
    "    aux = []\n",
    "    for i in reversed(sem):\n",
    "        aux.append(i)\n",
    "    return [aux[0] , aux[0].strftime('%A'), aux[1] , aux[1].strftime('%A'), aux[2], aux[2].strftime('%A')]"
   ]
  },
  {
   "cell_type": "code",
   "execution_count": 12,
   "id": "f10474e4",
   "metadata": {},
   "outputs": [
    {
     "data": {
      "text/plain": [
       "[datetime.date(2021, 7, 31),\n",
       " 'Saturday',\n",
       " datetime.date(2021, 7, 30),\n",
       " 'Friday',\n",
       " datetime.date(2021, 7, 29),\n",
       " 'Thursday']"
      ]
     },
     "execution_count": 12,
     "metadata": {},
     "output_type": "execute_result"
    }
   ],
   "source": [
    "findes_por_semana(semana5)"
   ]
  },
  {
   "cell_type": "code",
   "execution_count": null,
   "id": "1b8b5b14",
   "metadata": {},
   "outputs": [],
   "source": []
  }
 ],
 "metadata": {
  "kernelspec": {
   "display_name": "Python 3",
   "language": "python",
   "name": "python3"
  },
  "language_info": {
   "codemirror_mode": {
    "name": "ipython",
    "version": 3
   },
   "file_extension": ".py",
   "mimetype": "text/x-python",
   "name": "python",
   "nbconvert_exporter": "python",
   "pygments_lexer": "ipython3",
   "version": "3.8.8"
  }
 },
 "nbformat": 4,
 "nbformat_minor": 5
}
