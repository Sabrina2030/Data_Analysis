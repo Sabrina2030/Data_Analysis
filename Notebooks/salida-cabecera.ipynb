{
 "cells": [
  {
   "cell_type": "code",
   "execution_count": 1,
   "id": "a1c46f2d",
   "metadata": {},
   "outputs": [],
   "source": [
    "from io import open\n",
    "\n",
    "archivo = open(\"../Datos/202106/Auxiliares/salida_cabecera.txt\",\"w\")\n",
    "\n",
    "archivo.write(\"CABECERA\\n\")\n",
    "archivo.write(\"30-71016088-7;329;15/07/2021;06-21;SAD CORDOBA S.A.;1;UP30710160887;28669\\n\")\n",
    "archivo.write(\"RED\\n\")\n",
    "archivo.write(\"30-71016088-7;;;0;CM;SAD CORDOBA S.A.;0;F SANCHEZ;3081;0;0;;3512425076\\n\")\n",
    "archivo.write(\"PROFESIONAL\\n\")\n",
    "archivo.write(\";;;0;JARA DARIO RUBEN;1;258089;258089;DNI;22034419;23-22034419-3;F SANCHEZ;3081;0;0;;3512425076\\n\")\n",
    "archivo.write(\"PRESTADOR\\n\")\n",
    "archivo.write(\";30-71016088-7;258089;;0;UP30710160887;96954;2;1;1;RMARCHETTO@ENCASA.COM.AR;01/01/2010;;;;0;0;0;SAD CORDOBA S.A.;OBISPO TREJO;648;;0;40130123;3512425076;28669\\n\")\n",
    "archivo.write(\"REL_PROFESIONALESXPRESTADOR\\n\")\n",
    "archivo.write(\";30-71016088-7;258089;0;0;\\n\")\n",
    "archivo.write(\"BOCA_ATENCION\\n\")\n",
    "archivo.write(\";30-71016088-7;;0;1;10;F SANCHEZ;3081;0;0;;3512425076\\n\")\n",
    "archivo.write(\"REL_MODULOSXPRESTADOR\\n\")\n",
    "archivo.write(\";30-71016088-7;;0;1;\\n\")\n",
    "archivo.write(\";30-71016088-7;;0;2;\\n\")\n",
    "archivo.write(\";30-71016088-7;;0;3;\\n\")\n",
    "archivo.write(\";30-71016088-7;;0;4;\\n\")\n",
    "archivo.write(\"REL_PRESTADORESXRED\\n\")\n",
    "archivo.write(\"30-71016088-7;30-71016088-7;;0;0;\\n\")\n",
    "\n",
    "archivo.close()\n",
    "\n",
    "\n"
   ]
  },
  {
   "cell_type": "code",
   "execution_count": null,
   "id": "244250e2",
   "metadata": {},
   "outputs": [],
   "source": []
  }
 ],
 "metadata": {
  "kernelspec": {
   "display_name": "Python 3",
   "language": "python",
   "name": "python3"
  },
  "language_info": {
   "codemirror_mode": {
    "name": "ipython",
    "version": 3
   },
   "file_extension": ".py",
   "mimetype": "text/x-python",
   "name": "python",
   "nbconvert_exporter": "python",
   "pygments_lexer": "ipython3",
   "version": "3.8.8"
  }
 },
 "nbformat": 4,
 "nbformat_minor": 5
}
