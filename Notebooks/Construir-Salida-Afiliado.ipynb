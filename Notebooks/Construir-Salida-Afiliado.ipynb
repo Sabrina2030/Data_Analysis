{
 "cells": [
  {
   "cell_type": "markdown",
   "id": "0ad18905-4440-45e2-b7ab-00c1ffc8a180",
   "metadata": {},
   "source": [
    "## Libraries"
   ]
  },
  {
   "cell_type": "code",
   "execution_count": 1,
   "id": "756ba28b",
   "metadata": {},
   "outputs": [],
   "source": [
    "# import libraries\n",
    "import numpy as np\n",
    "import pandas as pd\n",
    "import datetime as dt\n",
    "from Modules.validaciones import *\n",
    "from Modules.df_local_functions import *"
   ]
  },
  {
   "cell_type": "markdown",
   "id": "b3e728f3-5375-4aca-9eae-5991479c5d19",
   "metadata": {},
   "source": [
    "---"
   ]
  },
  {
   "cell_type": "markdown",
   "id": "c1d2976a-f11a-41af-ac96-f960ebd11f7d",
   "metadata": {},
   "source": [
    "## Local Modules"
   ]
  },
  {
   "cell_type": "code",
   "execution_count": 2,
   "id": "aa016912-f626-4676-974e-228fd442905f",
   "metadata": {},
   "outputs": [],
   "source": [
    "# insert an header into a file"
   ]
  },
  {
   "cell_type": "code",
   "execution_count": 3,
   "id": "3ba8a9e4-1714-4c3b-ac84-64e46c26336c",
   "metadata": {},
   "outputs": [],
   "source": [
    "t_DataFrame = type(pd.DataFrame())\n",
    "def add_header(file_url, header: str):\n",
    "    with open(file_url, 'r+', encoding='utf-8') as outf:\n",
    "        content = outf.read()\n",
    "        outf.seek(0, 0)\n",
    "        outf.write(header.strip() + '\\n' + content)"
   ]
  },
  {
   "cell_type": "markdown",
   "id": "ab15205a",
   "metadata": {},
   "source": [
    "---"
   ]
  },
  {
   "cell_type": "markdown",
   "id": "514f0de2-a0f5-4cf1-a106-47dd9b010998",
   "metadata": {},
   "source": [
    "## Input: Base-txt.csv"
   ]
  },
  {
   "cell_type": "code",
   "execution_count": 4,
   "id": "0526b7ad",
   "metadata": {
    "tags": []
   },
   "outputs": [],
   "source": [
    "# import PAMI & base_sql file from local proyect."
   ]
  },
  {
   "cell_type": "code",
   "execution_count": 5,
   "id": "4ee8f3f2",
   "metadata": {
    "tags": []
   },
   "outputs": [],
   "source": [
    "t = pd.read_csv('../Datos/202106/base_txt_202106.csv')"
   ]
  },
  {
   "cell_type": "code",
   "execution_count": null,
   "id": "8cb92a1f-c53b-420b-ad44-057dbff01a34",
   "metadata": {},
   "outputs": [],
   "source": []
  },
  {
   "cell_type": "code",
   "execution_count": 6,
   "id": "b2e0d623",
   "metadata": {},
   "outputs": [],
   "source": [
    "# copy the DatasFrames"
   ]
  },
  {
   "cell_type": "code",
   "execution_count": 7,
   "id": "92b21257",
   "metadata": {},
   "outputs": [],
   "source": [
    "base_txt_file = t.copy() "
   ]
  },
  {
   "cell_type": "code",
   "execution_count": null,
   "id": "1615dc6d-f28c-4f49-8e64-119927bc07d2",
   "metadata": {},
   "outputs": [],
   "source": []
  },
  {
   "cell_type": "code",
   "execution_count": 8,
   "id": "927b780a-686b-47ff-b61e-c9c91471cdd5",
   "metadata": {},
   "outputs": [],
   "source": [
    "# display the columns name of 'base_txt_file'"
   ]
  },
  {
   "cell_type": "code",
   "execution_count": 9,
   "id": "e9b502e5-f548-4d80-a14d-b1d8becc8ef9",
   "metadata": {},
   "outputs": [
    {
     "data": {
      "text/plain": [
       "Index(['Apellido y Nombre', 'Tipo Documento', 'Nro Documento', 'Estado Civil',\n",
       "       'Nacionalidad', 'Calle', 'Puerta', 'Piso', 'Dpto', 'CP', 'Telefono',\n",
       "       'Fecha Nacimiento', 'Sexo', 'CUIT', 'CUIL', 'Beneficio', 'Parentesco',\n",
       "       'Sucursal', 'Agencia', 'Corresponsalia', 'Afip', 'Afiliacion',\n",
       "       'Formulario', 'Fecha Baja', 'Codigo Baja', 'B1', 'CodDiagno',\n",
       "       'CodDiagnostico', 'Tipo Diagnostico', 'B2', 'CodPresta',\n",
       "       'Cod Prestación', 'Fecha Práctica', 'Cantidad', 'Modalidad',\n",
       "       'Nro Orden', 'B3', 'Ctrol 1', 'CTROL 2', 'Ctrol 3', 'CONCATENAR',\n",
       "       'CONTROL 4', 'CONTROL  DIAS', 'CONTROL 5 COD', '****', '¨¨¨¨', 'VERDE',\n",
       "       'CONTROL TRANSMISION', 'CONTROL TRANSMISION- N°', 'Unnamed: 49',\n",
       "       'DIAS MES', '30/6/2021', 'Unnamed: 52', '4/6/2021', '7', '4',\n",
       "       '2/7/2021'],\n",
       "      dtype='object')"
      ]
     },
     "execution_count": 9,
     "metadata": {},
     "output_type": "execute_result"
    }
   ],
   "source": [
    "base_txt_file.columns"
   ]
  },
  {
   "cell_type": "markdown",
   "id": "3fe2c3e8-16f4-4f2e-a4b6-b0d00684c0bd",
   "metadata": {},
   "source": [
    "---"
   ]
  },
  {
   "cell_type": "markdown",
   "id": "f89d3e39-61a6-42e4-995f-0530005bf4d1",
   "metadata": {},
   "source": [
    "## Output: Afiliado_piloto.txt"
   ]
  },
  {
   "cell_type": "code",
   "execution_count": 10,
   "id": "1ff34e9a-7fee-4596-8aeb-a8f772418e9b",
   "metadata": {},
   "outputs": [],
   "source": [
    "# build output file with 'afiliados' data"
   ]
  },
  {
   "cell_type": "code",
   "execution_count": 11,
   "id": "5c2153c2-800a-4faf-ae95-a1159f6891c9",
   "metadata": {},
   "outputs": [],
   "source": [
    "# columns of interest"
   ]
  },
  {
   "cell_type": "code",
   "execution_count": 12,
   "id": "19771a81-0eaa-48c6-a882-4d1a9a5db01c",
   "metadata": {},
   "outputs": [],
   "source": [
    "interest_col = ['Apellido y Nombre', 'Tipo Documento', 'Nro Documento', 'Estado Civil', 'Nacionalidad', 'Calle',\n",
    "                'Puerta', 'Piso', 'Dpto', 'CP', 'Telefono', 'Fecha Nacimiento', 'Sexo', 'CUIT', 'CUIL',\n",
    "                'Beneficio', 'Parentesco', 'Sucursal', 'Agencia', 'Corresponsalia', 'Afip', 'Afiliacion', \n",
    "                'Formulario', 'Fecha Baja', 'Codigo Baja'\n",
    "               ]\n",
    "\n",
    "full_interest_col = ['Apellido y Nombre', 'Tipo Documento', 'Nro Documento', 'Estado Civil', 'Nacionalidad', 'Pais', 'Calle',\n",
    "                     'Puerta', 'Piso', 'Dpto', 'CP', 'Telefono', 'Fecha Nacimiento', 'Sexo', 'CUIT', 'CUIL',\n",
    "                     'Beneficio', 'Parentesco', 'Sucursal', 'Agencia', 'Corresponsalia', 'Afip', 'Afiliacion', \n",
    "                     'Formulario', 'Fecha Baja', 'Codigo Baja'\n",
    "                    ]"
   ]
  },
  {
   "cell_type": "code",
   "execution_count": 13,
   "id": "f176b97f-fa9f-4216-aff3-a83362e1103d",
   "metadata": {},
   "outputs": [],
   "source": [
    "# create a copy of 'base_txt_file' df"
   ]
  },
  {
   "cell_type": "code",
   "execution_count": 14,
   "id": "c74124b8-3da3-4040-a14f-b803bc50c788",
   "metadata": {},
   "outputs": [],
   "source": [
    "base_txt_file_copy = base_txt_file.copy()"
   ]
  },
  {
   "cell_type": "code",
   "execution_count": null,
   "id": "f8a69e42-b3cc-4938-b865-1b55cab522b5",
   "metadata": {},
   "outputs": [],
   "source": []
  },
  {
   "cell_type": "code",
   "execution_count": 15,
   "id": "c4bff8f9-fce5-48d0-98f8-c6e6d2281b67",
   "metadata": {},
   "outputs": [],
   "source": [
    "# cast 'Fecha Nacimiento' column type to datetime type"
   ]
  },
  {
   "cell_type": "code",
   "execution_count": 16,
   "id": "4cf05eed-193e-4043-801d-40fcdd8a4a9a",
   "metadata": {},
   "outputs": [],
   "source": [
    "base_txt_file_copy['Fecha Nacimiento'] = pd.to_datetime(base_txt_file_copy['Fecha Nacimiento'], dayfirst=True, \n",
    "                                                        format=\"%d/%m/%Y\").dt.strftime('%d/%m/%Y')"
   ]
  },
  {
   "cell_type": "code",
   "execution_count": null,
   "id": "e553badb-6e3f-464d-b2d8-f4ac104d9a8a",
   "metadata": {},
   "outputs": [],
   "source": []
  },
  {
   "cell_type": "code",
   "execution_count": 17,
   "id": "6b90e77c-16da-4642-a77d-314e43236d7a",
   "metadata": {},
   "outputs": [],
   "source": [
    "# add leading zeros to each value."
   ]
  },
  {
   "cell_type": "code",
   "execution_count": 18,
   "id": "267a0424-c397-4551-a662-38029120b8d6",
   "metadata": {},
   "outputs": [],
   "source": [
    "base_txt_file_copy['Beneficio'] = add_zeros_to_left(base_txt_file_copy, 'Beneficio', 12)\n",
    "base_txt_file_copy['Parentesco'] = add_zeros_to_left(base_txt_file_copy, 'Parentesco', 2)"
   ]
  },
  {
   "cell_type": "code",
   "execution_count": null,
   "id": "6e4cebc1-ad6c-47e4-9307-d4d84dfce0d7",
   "metadata": {},
   "outputs": [],
   "source": []
  },
  {
   "cell_type": "code",
   "execution_count": 19,
   "id": "edb2c45c-5696-45e9-adff-164d171fa636",
   "metadata": {},
   "outputs": [],
   "source": [
    "# sort by full name & date"
   ]
  },
  {
   "cell_type": "code",
   "execution_count": 20,
   "id": "046b5c36-51c0-4b3c-8049-d32cfe3a9d97",
   "metadata": {},
   "outputs": [],
   "source": [
    "base_txt_file_copy = base_txt_file_copy.sort_values(by=['Apellido y Nombre'])"
   ]
  },
  {
   "cell_type": "code",
   "execution_count": null,
   "id": "8dd1efcc-3920-4872-9436-38f45dd1071c",
   "metadata": {},
   "outputs": [],
   "source": []
  },
  {
   "cell_type": "code",
   "execution_count": 21,
   "id": "ed19e915-496d-4b29-9bde-e4a2a6fd661d",
   "metadata": {},
   "outputs": [],
   "source": [
    "# create a new DataFrame only with interest columns"
   ]
  },
  {
   "cell_type": "code",
   "execution_count": 22,
   "id": "a5a6b0e9-d253-4ce2-a807-8d5d081e058a",
   "metadata": {},
   "outputs": [],
   "source": [
    "afiliado_df = base_txt_file_copy.loc[:, interest_col]\n"
   ]
  },
  {
   "cell_type": "code",
   "execution_count": 23,
   "id": "cbc602a7-6877-4f33-a64e-fd1cea79c9ad",
   "metadata": {},
   "outputs": [],
   "source": [
    "# add a column called 'pais'"
   ]
  },
  {
   "cell_type": "code",
   "execution_count": 24,
   "id": "9d23f62e-fa73-41c2-a312-b937eaa06857",
   "metadata": {},
   "outputs": [],
   "source": [
    "afiliado_df.insert(5, 'Pais', '')"
   ]
  },
  {
   "cell_type": "code",
   "execution_count": null,
   "id": "fa0946d5-8329-45dd-865e-ea0d47228486",
   "metadata": {},
   "outputs": [],
   "source": []
  },
  {
   "cell_type": "code",
   "execution_count": 25,
   "id": "c3ad93c2-8673-4808-819d-b6c2f8e871c6",
   "metadata": {},
   "outputs": [],
   "source": [
    "# aplicar filtro y eliminar registros repetidos."
   ]
  },
  {
   "cell_type": "code",
   "execution_count": 26,
   "id": "53773b2d-9fec-4f5f-b875-9dcce98cfb96",
   "metadata": {},
   "outputs": [],
   "source": [
    "final_afiliado_df = afiliado_df.drop_duplicates(subset='Apellido y Nombre', keep='first')\n",
    "final_afiliado_df = final_afiliado_df.reset_index().drop(['index'], axis=1)"
   ]
  },
  {
   "cell_type": "code",
   "execution_count": null,
   "id": "1ad9e1bc-495b-4276-a3f0-501984c17d62",
   "metadata": {},
   "outputs": [],
   "source": []
  },
  {
   "cell_type": "code",
   "execution_count": 27,
   "id": "b9af6ff6-6b97-4ee0-8bd2-dc18b0472b6e",
   "metadata": {},
   "outputs": [],
   "source": [
    "# check the validity of 'Tipo Documento' in each register."
   ]
  },
  {
   "cell_type": "code",
   "execution_count": 28,
   "id": "ef541832-2250-4a00-8653-d1fe5f00ef6b",
   "metadata": {},
   "outputs": [],
   "source": [
    "# final_afiliado_df['Tipo Documento'] = final_afiliado_df['Tipo Documento'].apply(lambda x: 'DNI' if x == 'DI' else x)"
   ]
  },
  {
   "cell_type": "code",
   "execution_count": 29,
   "id": "09602ed1-9708-4314-8043-0bf667b9ebb1",
   "metadata": {},
   "outputs": [
    {
     "data": {
      "text/plain": [
       "0      DI\n",
       "1      DI\n",
       "2      DI\n",
       "3      DI\n",
       "4      DI\n",
       "       ..\n",
       "187    DI\n",
       "188    DI\n",
       "189    DI\n",
       "190    LC\n",
       "191    DI\n",
       "Name: Tipo Documento, Length: 192, dtype: object"
      ]
     },
     "execution_count": 29,
     "metadata": {},
     "output_type": "execute_result"
    }
   ],
   "source": [
    "final_afiliado_df['Tipo Documento']"
   ]
  },
  {
   "cell_type": "code",
   "execution_count": 30,
   "id": "87383df8-b104-4f1c-a742-cccb833bf9b3",
   "metadata": {},
   "outputs": [],
   "source": [
    "final_afiliado_df['Tipo Documento'] = replace_Series_values(final_afiliado_df, 'Tipo Documento', 'DI', 'DNI')"
   ]
  },
  {
   "cell_type": "code",
   "execution_count": 31,
   "id": "f4f84a91-86ff-4dd4-8e15-b29fe071c998",
   "metadata": {},
   "outputs": [
    {
     "data": {
      "text/plain": [
       "0      DNI\n",
       "1      DNI\n",
       "2      DNI\n",
       "3      DNI\n",
       "4      DNI\n",
       "      ... \n",
       "187    DNI\n",
       "188    DNI\n",
       "189    DNI\n",
       "190     LC\n",
       "191    DNI\n",
       "Name: Tipo Documento, Length: 192, dtype: object"
      ]
     },
     "execution_count": 31,
     "metadata": {},
     "output_type": "execute_result"
    }
   ],
   "source": [
    "final_afiliado_df['Tipo Documento']"
   ]
  },
  {
   "cell_type": "code",
   "execution_count": null,
   "id": "6c55a9c2-5f61-4e29-9b28-8a4ad86e028c",
   "metadata": {},
   "outputs": [],
   "source": []
  },
  {
   "cell_type": "code",
   "execution_count": 32,
   "id": "9b6ba7e9-9f74-415f-af43-435bb91632c1",
   "metadata": {},
   "outputs": [],
   "source": [
    "# change the order of the 'CP' column."
   ]
  },
  {
   "cell_type": "code",
   "execution_count": 33,
   "id": "edb80958-7ae3-4e8e-9690-72032323fc22",
   "metadata": {},
   "outputs": [],
   "source": [
    "col_new_order = ['Apellido y Nombre', 'Tipo Documento', 'Nro Documento', 'Estado Civil', 'Nacionalidad', 'Pais', 'Calle', \n",
    "                 'Puerta', 'Piso', 'CP', 'Dpto', 'Telefono', 'Fecha Nacimiento', 'Sexo', 'CUIT', 'CUIL', 'Beneficio', \n",
    "                 'Parentesco', 'Sucursal', 'Agencia', 'Corresponsalia', 'Afip', 'Afiliacion', 'Formulario', 'Fecha Baja', \n",
    "                 'Codigo Baja']"
   ]
  },
  {
   "cell_type": "code",
   "execution_count": 34,
   "id": "4232537b-05a8-4a74-9e28-3e4dfb95b9b6",
   "metadata": {},
   "outputs": [],
   "source": [
    "final_afiliado_df = final_afiliado_df.reindex(columns=col_new_order)"
   ]
  },
  {
   "cell_type": "code",
   "execution_count": null,
   "id": "89ed6b0d-14fc-4ff1-a733-cc49faf946be",
   "metadata": {},
   "outputs": [],
   "source": []
  },
  {
   "cell_type": "code",
   "execution_count": 35,
   "id": "4a8318f2-4dd8-49ec-aa1f-83c09d0b0fbe",
   "metadata": {},
   "outputs": [],
   "source": [
    "# export 'final_afiliado_df' to a txt file"
   ]
  },
  {
   "cell_type": "code",
   "execution_count": 36,
   "id": "0ccd63f3-79fe-4fe0-8444-fe895b02592f",
   "metadata": {},
   "outputs": [],
   "source": [
    "final_afiliado_df.to_csv('../Datos/202106/Auxiliares/afiliado_piloto.txt', sep=';', header=False, index=False, encoding='utf-8')"
   ]
  },
  {
   "cell_type": "code",
   "execution_count": null,
   "id": "153bc3bf-663f-4ed6-802a-bf4fbb546954",
   "metadata": {},
   "outputs": [],
   "source": []
  },
  {
   "cell_type": "code",
   "execution_count": 37,
   "id": "f3829281-24fc-49ed-b9f5-09675a9cacc8",
   "metadata": {},
   "outputs": [],
   "source": [
    "# add 'AFILIADO', as an header, into the 'afiliado_piloto.txt' file"
   ]
  },
  {
   "cell_type": "code",
   "execution_count": 38,
   "id": "46a309f7-ea29-4edf-9877-2da85f475b14",
   "metadata": {},
   "outputs": [],
   "source": [
    "afiliado_piloto_url = '../Datos/202106/Auxiliares/afiliado_piloto.txt'\n",
    "\n",
    "add_header(afiliado_piloto_url, 'AFILIADO')"
   ]
  },
  {
   "cell_type": "markdown",
   "id": "f122c883-6589-4c05-bf76-dca2f8e7a462",
   "metadata": {},
   "source": [
    "---"
   ]
  },
  {
   "cell_type": "markdown",
   "id": "dd55761b-a527-426a-a702-9f7dc428b627",
   "metadata": {},
   "source": [
    "## In/Out: Afiliado_original.txt"
   ]
  },
  {
   "cell_type": "code",
   "execution_count": 39,
   "id": "a33b90be-0b58-4662-94e3-7be1ef8d6df2",
   "metadata": {},
   "outputs": [],
   "source": [
    "# import the original file"
   ]
  },
  {
   "cell_type": "code",
   "execution_count": 40,
   "id": "d21625a2-097c-46f8-bd2f-4ba24f57bbaf",
   "metadata": {},
   "outputs": [],
   "source": [
    "afiliado_original = pd.read_csv('../Datos/202106/Auxiliares/afiliado-original.csv', \n",
    "                                sep=';', names=full_interest_col, index_col=False)"
   ]
  },
  {
   "cell_type": "code",
   "execution_count": null,
   "id": "512e8897-c964-46af-88f3-30eb60a3f063",
   "metadata": {},
   "outputs": [],
   "source": []
  },
  {
   "cell_type": "code",
   "execution_count": 41,
   "id": "c49bc52b-d128-44ce-98a2-ba59674e8374",
   "metadata": {},
   "outputs": [],
   "source": [
    "# add leading zeros to each value."
   ]
  },
  {
   "cell_type": "code",
   "execution_count": 42,
   "id": "3675330c-f13c-48fa-9410-db39a90bd1b2",
   "metadata": {},
   "outputs": [],
   "source": [
    "afiliado_original['Beneficio'] = add_zeros_to_left(afiliado_original, 'Beneficio', 12)\n",
    "afiliado_original['Parentesco'] = add_zeros_to_left(afiliado_original, 'Parentesco', 2)"
   ]
  },
  {
   "cell_type": "code",
   "execution_count": null,
   "id": "c3409767-5877-4c42-a4a7-22b1e5dfaef7",
   "metadata": {},
   "outputs": [],
   "source": []
  },
  {
   "cell_type": "code",
   "execution_count": 43,
   "id": "68fc3581-eff2-40f8-a60b-69e066e83b6b",
   "metadata": {},
   "outputs": [],
   "source": [
    "# sort the registers by 'Apellido y Nombre' column"
   ]
  },
  {
   "cell_type": "code",
   "execution_count": 44,
   "id": "3f293f94-c856-4555-bb31-adf505d19306",
   "metadata": {},
   "outputs": [],
   "source": [
    "afiliado_original = afiliado_original.sort_values(by=['Apellido y Nombre'])"
   ]
  },
  {
   "cell_type": "code",
   "execution_count": null,
   "id": "061b2572-60bd-4f39-82a8-9ca67463333b",
   "metadata": {},
   "outputs": [],
   "source": []
  },
  {
   "cell_type": "code",
   "execution_count": 45,
   "id": "a0f9f21c-8748-445d-9051-a9a45be41bc3",
   "metadata": {},
   "outputs": [],
   "source": [
    "# export 'afiliado_original' df to a txt file"
   ]
  },
  {
   "cell_type": "code",
   "execution_count": 46,
   "id": "6cec5571-233c-43a0-8d03-cc55a7860f79",
   "metadata": {},
   "outputs": [],
   "source": [
    "afiliado_original.to_csv('../Datos/202106/Auxiliares/afiliado_original_ordenado.txt', sep=';', header=False, index=False, encoding='utf-8')"
   ]
  },
  {
   "cell_type": "code",
   "execution_count": null,
   "id": "5fa8f2d8-5c22-410f-aa87-dd5bfcb55107",
   "metadata": {},
   "outputs": [],
   "source": []
  },
  {
   "cell_type": "code",
   "execution_count": 47,
   "id": "85361b90-731b-4f4f-b399-f4af6a17b579",
   "metadata": {},
   "outputs": [],
   "source": [
    "# add header into the generated file"
   ]
  },
  {
   "cell_type": "code",
   "execution_count": 48,
   "id": "114fcdd9-3c5a-484b-8dee-b75e6aebdf9e",
   "metadata": {},
   "outputs": [],
   "source": [
    "afiliado_original_url = '../Datos/202106/Auxiliares/afiliado_original_ordenado.txt'\n",
    "\n",
    "add_header(afiliado_original_url, 'AFILIADO')"
   ]
  },
  {
   "cell_type": "markdown",
   "id": "3c85311f-d8c8-4b7f-9b00-c8820a26080b",
   "metadata": {},
   "source": [
    "---"
   ]
  }
 ],
 "metadata": {
  "kernelspec": {
   "display_name": "Python 3",
   "language": "python",
   "name": "python3"
  },
  "language_info": {
   "codemirror_mode": {
    "name": "ipython",
    "version": 3
   },
   "file_extension": ".py",
   "mimetype": "text/x-python",
   "name": "python",
   "nbconvert_exporter": "python",
   "pygments_lexer": "ipython3",
   "version": "3.8.8"
  }
 },
 "nbformat": 4,
 "nbformat_minor": 5
}
