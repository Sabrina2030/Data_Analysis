{
 "cells": [
  {
   "cell_type": "code",
   "execution_count": 1,
   "source": [
    "# import libraries\n",
    "import numpy as np\n",
    "import pandas as pd\n",
    "import matplotlib.pyplot as plt\n",
    "import warnings\n",
    "import io\n",
    "from validaciones import *"
   ],
   "outputs": [],
   "metadata": {}
  },
  {
   "cell_type": "markdown",
   "source": [
    "---"
   ],
   "metadata": {}
  },
  {
   "cell_type": "code",
   "execution_count": 2,
   "source": [
    "# import PAMI & base_sql file form local proyect."
   ],
   "outputs": [],
   "metadata": {
    "tags": []
   }
  },
  {
   "cell_type": "code",
   "execution_count": 3,
   "source": [
    "p = pd.read_csv('/home/leandro/Backup/KUNAN/Proyectos/1. EnCasa/en-casa-presentaciones-pami/datos/202106/2021-06_ KUNAN.xls - app Pami .csv')\n",
    "\n",
    "b = pd.read_csv('/home/leandro/Backup/KUNAN/Proyectos/1. EnCasa/en-casa-presentaciones-pami/datos/202106/2021-06_ KUNAN.xls - Base SQL.csv')"
   ],
   "outputs": [],
   "metadata": {
    "tags": []
   }
  },
  {
   "cell_type": "code",
   "execution_count": 4,
   "source": [
    "# copy the DatasFrames"
   ],
   "outputs": [],
   "metadata": {}
  },
  {
   "cell_type": "code",
   "execution_count": 5,
   "source": [
    "pami_file = p.copy()\n",
    "base_sql_file = b.copy()"
   ],
   "outputs": [],
   "metadata": {}
  },
  {
   "cell_type": "code",
   "execution_count": null,
   "source": [],
   "outputs": [],
   "metadata": {}
  },
  {
   "cell_type": "code",
   "execution_count": 6,
   "source": [
    "# validate the main fields (apellido_nombre, id_tipo_documento, nro_documento, fecha_nacimiento, sexo, id_beneficio, id_parentesco)."
   ],
   "outputs": [],
   "metadata": {
    "tags": []
   }
  },
  {
   "cell_type": "code",
   "execution_count": 7,
   "source": [
    "# pami: N° afiliación (float), Nombre persona afiliada (object)."
   ],
   "outputs": [],
   "metadata": {
    "tags": []
   }
  },
  {
   "cell_type": "code",
   "execution_count": 8,
   "source": [
    "obligatory_fields_pami = ['N° afiliación', 'Nombre persona afiliada']"
   ],
   "outputs": [],
   "metadata": {
    "tags": []
   }
  },
  {
   "cell_type": "code",
   "execution_count": 9,
   "source": [
    "df_id = 0\n",
    "create_nulls_warn_file(df_id, pami_file, obligatory_fields_pami)"
   ],
   "outputs": [
    {
     "output_type": "stream",
     "name": "stderr",
     "text": [
      "/home/leandro/Backup/KUNAN/Proyectos/1. EnCasa/en-casa-presentaciones-pami/datos/202106/NotebookDescriptivo/validaciones.py:37: UserWarning: Los siguientes campos obligatorios contienen valores nulos: ['N° afiliación', 'Nombre persona afiliada']\n",
      "  warnings.warn(\"Los siguientes campos obligatorios contienen valores nulos: {}\".format(col_with_nulls))\n"
     ]
    }
   ],
   "metadata": {
    "tags": []
   }
  },
  {
   "cell_type": "code",
   "execution_count": null,
   "source": [],
   "outputs": [],
   "metadata": {}
  },
  {
   "cell_type": "code",
   "execution_count": 10,
   "source": [
    "# sql: tipodoc (object), numdoc (int), nombre (object), fecha_nacimiento (object), sexo (object), afiliado (int), grado_paren (int)."
   ],
   "outputs": [],
   "metadata": {
    "tags": []
   }
  },
  {
   "cell_type": "code",
   "execution_count": 11,
   "source": [
    "obligatory_fields_sql = ['tipodoc', 'numdoc', 'nombre', 'fecha_nacimiento', 'sexo' ,'afiliado', 'grado_paren']"
   ],
   "outputs": [],
   "metadata": {}
  },
  {
   "cell_type": "code",
   "execution_count": null,
   "source": [],
   "outputs": [],
   "metadata": {}
  },
  {
   "cell_type": "code",
   "execution_count": null,
   "source": [],
   "outputs": [],
   "metadata": {}
  },
  {
   "cell_type": "code",
   "execution_count": 12,
   "source": [
    "# primary cleaning of files.the DataFrames."
   ],
   "outputs": [],
   "metadata": {}
  },
  {
   "cell_type": "code",
   "execution_count": 13,
   "source": [
    "pami_file.columns"
   ],
   "outputs": [
    {
     "output_type": "execute_result",
     "data": {
      "text/plain": [
       "Index(['N° de Visita', 'Estado', 'Fecha comienzo', 'Fecha fin', 'Duración',\n",
       "       'Celular persona afiliada', 'N° afiliación', 'Nombre persona afiliada',\n",
       "       'DNI del responsable de la visita', 'Responsable de la visita',\n",
       "       'N° matrícula responsable de la visita', 'Tipo servicio prestador',\n",
       "       'Email responsable de la visita', 'Razón social de Empresa Prestadora',\n",
       "       'SAP de Empresa Prestadora', 'UGL de Empresa Prestadora'],\n",
       "      dtype='object')"
      ]
     },
     "metadata": {},
     "execution_count": 13
    }
   ],
   "metadata": {}
  },
  {
   "cell_type": "code",
   "execution_count": 14,
   "source": [
    "base_sql_file.columns"
   ],
   "outputs": [
    {
     "output_type": "execute_result",
     "data": {
      "text/plain": [
       "Index(['Unnamed: 0', 'codigo_rp', 'tipodoc', 'numdoc', 'nombre', 'direccion',\n",
       "       'localidad', 'provincia', 'cod_postal', 'telefono', 'fecha_nacimiento',\n",
       "       'sexo', 'afiliado', 'grado_paren', 'codigo_diagnostico',\n",
       "       'cod_prestacion', 'fecha_agenda', 'cantd', 'nro_autorizacion',\n",
       "       'descrip_diagnostico', 'impor_hono', 'impor_gastos', 'orden_rp',\n",
       "       'secuen_rp', 'confirmado', 'bono_nume'],\n",
       "      dtype='object')"
      ]
     },
     "metadata": {},
     "execution_count": 14
    }
   ],
   "metadata": {}
  },
  {
   "cell_type": "code",
   "execution_count": 15,
   "source": [
    "# rename columns related to pami beneficiary number."
   ],
   "outputs": [],
   "metadata": {}
  },
  {
   "cell_type": "code",
   "execution_count": 16,
   "source": [
    "pami_file = pami_file.rename(columns={'Celular persona afiliada': 'Telefono', 'N° afiliación': 'Num-Afiliacion',\n",
    "                                      'Nombre persona afiliada': 'Apellido y Nombre'})"
   ],
   "outputs": [],
   "metadata": {}
  },
  {
   "cell_type": "code",
   "execution_count": 17,
   "source": [
    "base_sql_file = base_sql_file.rename(columns={'tipodoc': 'Tipo Documento', 'numdoc': 'Nro Documento', \n",
    "                                              'nombre': 'Apellido y Nombre', 'cod_postal': 'CP', 'telefono': 'Telefono', \n",
    "                                              'fecha_nacimiento': 'Fecha Nacimiento', 'sexo': 'Sexo', 'afiliado': 'Beneficio', \n",
    "                                              'grado_paren': 'Parentesco', 'codigo_diagnostico': 'CodDiagnostico', \n",
    "                                              'cod_prestacion': 'Cod Prestación', 'fecha_agenda': 'Fecha Práctica', \n",
    "                                              'cantd': 'Cantidad', 'nro_autorizacion': 'Nro Orden'})"
   ],
   "outputs": [],
   "metadata": {}
  },
  {
   "cell_type": "code",
   "execution_count": null,
   "source": [],
   "outputs": [],
   "metadata": {}
  },
  {
   "cell_type": "code",
   "execution_count": 18,
   "source": [
    "# validate field 'Beneficio': 14 digits requeried."
   ],
   "outputs": [],
   "metadata": {}
  },
  {
   "cell_type": "code",
   "execution_count": 19,
   "source": [
    "pami_file.dtypes"
   ],
   "outputs": [
    {
     "output_type": "execute_result",
     "data": {
      "text/plain": [
       "N° de Visita                               int64\n",
       "Estado                                    object\n",
       "Fecha comienzo                            object\n",
       "Fecha fin                                 object\n",
       "Duración                                  object\n",
       "Telefono                                  object\n",
       "Num-Afiliacion                           float64\n",
       "Apellido y Nombre                         object\n",
       "DNI del responsable de la visita           int64\n",
       "Responsable de la visita                  object\n",
       "N° matrícula responsable de la visita    float64\n",
       "Tipo servicio prestador                   object\n",
       "Email responsable de la visita            object\n",
       "Razón social de Empresa Prestadora        object\n",
       "SAP de Empresa Prestadora                  int64\n",
       "UGL de Empresa Prestadora                  int64\n",
       "dtype: object"
      ]
     },
     "metadata": {},
     "execution_count": 19
    }
   ],
   "metadata": {}
  },
  {
   "cell_type": "code",
   "execution_count": 20,
   "source": [
    "base_sql_file.dtypes"
   ],
   "outputs": [
    {
     "output_type": "execute_result",
     "data": {
      "text/plain": [
       "Unnamed: 0             float64\n",
       "codigo_rp                int64\n",
       "Tipo Documento          object\n",
       "Nro Documento            int64\n",
       "Apellido y Nombre       object\n",
       "direccion               object\n",
       "localidad               object\n",
       "provincia               object\n",
       "CP                     float64\n",
       "Telefono                object\n",
       "Fecha Nacimiento        object\n",
       "Sexo                    object\n",
       "Beneficio                int64\n",
       "Parentesco               int64\n",
       "CodDiagnostico          object\n",
       "Cod Prestación          object\n",
       "Fecha Práctica          object\n",
       "Cantidad                 int64\n",
       "Nro Orden                int64\n",
       "descrip_diagnostico     object\n",
       "impor_hono              object\n",
       "impor_gastos            object\n",
       "orden_rp                 int64\n",
       "secuen_rp                int64\n",
       "confirmado              object\n",
       "bono_nume              float64\n",
       "dtype: object"
      ]
     },
     "metadata": {},
     "execution_count": 20
    }
   ],
   "metadata": {}
  },
  {
   "cell_type": "code",
   "execution_count": null,
   "source": [],
   "outputs": [],
   "metadata": {}
  },
  {
   "cell_type": "code",
   "execution_count": 21,
   "source": [
    "# general procedure: add leading zeros to each value."
   ],
   "outputs": [],
   "metadata": {}
  },
  {
   "cell_type": "code",
   "execution_count": 22,
   "source": [
    "pami_file['Num-Afiliacion'] = add_zeros_to_left(pami_file, 'Num-Afiliacion', 14)\n",
    "pami_file['Num-Afiliacion']"
   ],
   "outputs": [
    {
     "output_type": "execute_result",
     "data": {
      "text/plain": [
       "0       15077422440400\n",
       "1       15029810110100\n",
       "2       09595341410700\n",
       "3       15019292180700\n",
       "4       15026149150200\n",
       "             ...      \n",
       "8572    15580418720300\n",
       "8573    15033793340700\n",
       "8574    15067158690100\n",
       "8575    15580418720300\n",
       "8576    14000659250200\n",
       "Name: Num-Afiliacion, Length: 8577, dtype: object"
      ]
     },
     "metadata": {},
     "execution_count": 22
    }
   ],
   "metadata": {}
  },
  {
   "cell_type": "code",
   "execution_count": 23,
   "source": [
    "base_sql_file['Beneficio'] = add_zeros_to_left(base_sql_file, 'Beneficio', 12)\n",
    "base_sql_file['Beneficio']"
   ],
   "outputs": [
    {
     "output_type": "execute_result",
     "data": {
      "text/plain": [
       "0        150410698405\n",
       "1        150410698405\n",
       "2        150410698405\n",
       "3        150410698405\n",
       "4        150410698405\n",
       "             ...     \n",
       "11321    150199396202\n",
       "11322    150199396202\n",
       "11323    150199396202\n",
       "11324    150199396202\n",
       "11325    150199396202\n",
       "Name: Beneficio, Length: 11326, dtype: object"
      ]
     },
     "metadata": {},
     "execution_count": 23
    }
   ],
   "metadata": {}
  },
  {
   "cell_type": "code",
   "execution_count": 24,
   "source": [
    "base_sql_file['Parentesco'] = add_zeros_to_left(base_sql_file, 'Parentesco', 2)\n",
    "base_sql_file['Parentesco']"
   ],
   "outputs": [
    {
     "output_type": "execute_result",
     "data": {
      "text/plain": [
       "0        00\n",
       "1        00\n",
       "2        00\n",
       "3        00\n",
       "4        00\n",
       "         ..\n",
       "11321    00\n",
       "11322    00\n",
       "11323    00\n",
       "11324    00\n",
       "11325    00\n",
       "Name: Parentesco, Length: 11326, dtype: object"
      ]
     },
     "metadata": {},
     "execution_count": 24
    }
   ],
   "metadata": {}
  },
  {
   "cell_type": "code",
   "execution_count": null,
   "source": [],
   "outputs": [],
   "metadata": {}
  },
  {
   "cell_type": "code",
   "execution_count": 25,
   "source": [
    "# Concat columns 'Beneficio' & 'Parentesco'"
   ],
   "outputs": [],
   "metadata": {}
  },
  {
   "cell_type": "code",
   "execution_count": 26,
   "source": [
    "base_sql_file['Beneficio'] = base_sql_file['Beneficio'] + base_sql_file['Parentesco']\n",
    "base_sql_file = base_sql_file.rename(columns={'Beneficio': 'Num-Afiliacion'})\n",
    "base_sql_file = base_sql_file.drop(['Parentesco'], axis=1)"
   ],
   "outputs": [],
   "metadata": {}
  },
  {
   "cell_type": "code",
   "execution_count": 27,
   "source": [
    "base_sql_file['Num-Afiliacion']"
   ],
   "outputs": [
    {
     "output_type": "execute_result",
     "data": {
      "text/plain": [
       "0        15041069840500\n",
       "1        15041069840500\n",
       "2        15041069840500\n",
       "3        15041069840500\n",
       "4        15041069840500\n",
       "              ...      \n",
       "11321    15019939620200\n",
       "11322    15019939620200\n",
       "11323    15019939620200\n",
       "11324    15019939620200\n",
       "11325    15019939620200\n",
       "Name: Num-Afiliacion, Length: 11326, dtype: object"
      ]
     },
     "metadata": {},
     "execution_count": 27
    }
   ],
   "metadata": {}
  },
  {
   "cell_type": "code",
   "execution_count": 28,
   "source": [
    "base_sql_file.isnull().sum()"
   ],
   "outputs": [
    {
     "output_type": "execute_result",
     "data": {
      "text/plain": [
       "Unnamed: 0             11326\n",
       "codigo_rp                  0\n",
       "Tipo Documento             0\n",
       "Nro Documento              0\n",
       "Apellido y Nombre          0\n",
       "direccion                  0\n",
       "localidad                  0\n",
       "provincia                  0\n",
       "CP                      1939\n",
       "Telefono                2023\n",
       "Fecha Nacimiento           0\n",
       "Sexo                       0\n",
       "Num-Afiliacion             0\n",
       "CodDiagnostico             0\n",
       "Cod Prestación             0\n",
       "Fecha Práctica             0\n",
       "Cantidad                   0\n",
       "Nro Orden                  0\n",
       "descrip_diagnostico        0\n",
       "impor_hono                86\n",
       "impor_gastos              86\n",
       "orden_rp                   0\n",
       "secuen_rp                  0\n",
       "confirmado                 0\n",
       "bono_nume              11247\n",
       "dtype: int64"
      ]
     },
     "metadata": {},
     "execution_count": 28
    }
   ],
   "metadata": {}
  },
  {
   "cell_type": "code",
   "execution_count": 29,
   "source": [
    "base_sql_file['Num-Afiliacion'].to_csv('hola.csv', index=False, encoding='utf-8')"
   ],
   "outputs": [],
   "metadata": {}
  },
  {
   "cell_type": "code",
   "execution_count": null,
   "source": [],
   "outputs": [],
   "metadata": {}
  },
  {
   "cell_type": "code",
   "execution_count": 30,
   "source": [
    "o = pd.DataFrame()\n",
    "o = o.append(pami_file[pami_file['Apellido y Nombre'] == 'ABALLAY MIGUEL ANGEL'])"
   ],
   "outputs": [],
   "metadata": {}
  },
  {
   "cell_type": "code",
   "execution_count": 31,
   "source": [
    "o.to_csv('Aballay.csv')"
   ],
   "outputs": [],
   "metadata": {}
  },
  {
   "cell_type": "code",
   "execution_count": 32,
   "source": [
    "o.index.size"
   ],
   "outputs": [
    {
     "output_type": "execute_result",
     "data": {
      "text/plain": [
       "14"
      ]
     },
     "metadata": {},
     "execution_count": 32
    }
   ],
   "metadata": {}
  },
  {
   "cell_type": "code",
   "execution_count": null,
   "source": [],
   "outputs": [],
   "metadata": {}
  },
  {
   "cell_type": "code",
   "execution_count": 33,
   "source": [
    "# remove column 'Unnamed: 0'\n",
    "base_sql_file = base_sql_file.drop(['Unnamed: 0'], axis=1)"
   ],
   "outputs": [],
   "metadata": {}
  },
  {
   "cell_type": "code",
   "execution_count": null,
   "source": [],
   "outputs": [],
   "metadata": {}
  },
  {
   "cell_type": "code",
   "execution_count": 34,
   "source": [
    "# merge the DataFrames by the column 'Beneficio'"
   ],
   "outputs": [],
   "metadata": {}
  },
  {
   "cell_type": "code",
   "execution_count": 35,
   "source": [
    "#df_merge = pd.merge(pami_file, base_sql_file, on='Num-Afiliacion', how='outer')\n",
    "df_merge = base_sql_file.merge(pami_file, left_on='Num-Afiliacion', right_on='Num-Afiliacion', how='outer')"
   ],
   "outputs": [],
   "metadata": {}
  },
  {
   "cell_type": "code",
   "execution_count": 36,
   "source": [
    "df_merge.info()"
   ],
   "outputs": [
    {
     "output_type": "stream",
     "name": "stdout",
     "text": [
      "<class 'pandas.core.frame.DataFrame'>\n",
      "Int64Index: 623145 entries, 0 to 623144\n",
      "Data columns (total 39 columns):\n",
      " #   Column                                 Non-Null Count   Dtype  \n",
      "---  ------                                 --------------   -----  \n",
      " 0   codigo_rp                              623065 non-null  float64\n",
      " 1   Tipo Documento                         623065 non-null  object \n",
      " 2   Nro Documento                          623065 non-null  float64\n",
      " 3   Apellido y Nombre_x                    623065 non-null  object \n",
      " 4   direccion                              623065 non-null  object \n",
      " 5   localidad                              623065 non-null  object \n",
      " 6   provincia                              623065 non-null  object \n",
      " 7   CP                                     492685 non-null  float64\n",
      " 8   Telefono_x                             533278 non-null  object \n",
      " 9   Fecha Nacimiento                       623065 non-null  object \n",
      " 10  Sexo                                   623065 non-null  object \n",
      " 11  Num-Afiliacion                         623145 non-null  object \n",
      " 12  CodDiagnostico                         623065 non-null  object \n",
      " 13  Cod Prestación                         623065 non-null  object \n",
      " 14  Fecha Práctica                         623065 non-null  object \n",
      " 15  Cantidad                               623065 non-null  float64\n",
      " 16  Nro Orden                              623065 non-null  float64\n",
      " 17  descrip_diagnostico                    623065 non-null  object \n",
      " 18  impor_hono                             621323 non-null  object \n",
      " 19  impor_gastos                           621323 non-null  object \n",
      " 20  orden_rp                               623065 non-null  float64\n",
      " 21  secuen_rp                              623065 non-null  float64\n",
      " 22  confirmado                             623065 non-null  object \n",
      " 23  bono_nume                              2732 non-null    float64\n",
      " 24  N° de Visita                           622994 non-null  float64\n",
      " 25  Estado                                 622994 non-null  object \n",
      " 26  Fecha comienzo                         622994 non-null  object \n",
      " 27  Fecha fin                              622994 non-null  object \n",
      " 28  Duración                               622994 non-null  object \n",
      " 29  Telefono_y                             622994 non-null  object \n",
      " 30  Apellido y Nombre_y                    622992 non-null  object \n",
      " 31  DNI del responsable de la visita       622994 non-null  float64\n",
      " 32  Responsable de la visita               622994 non-null  object \n",
      " 33  N° matrícula responsable de la visita  533233 non-null  float64\n",
      " 34  Tipo servicio prestador                622994 non-null  object \n",
      " 35  Email responsable de la visita         622994 non-null  object \n",
      " 36  Razón social de Empresa Prestadora     622994 non-null  object \n",
      " 37  SAP de Empresa Prestadora              622994 non-null  float64\n",
      " 38  UGL de Empresa Prestadora              622994 non-null  float64\n",
      "dtypes: float64(13), object(26)\n",
      "memory usage: 190.2+ MB\n"
     ]
    }
   ],
   "metadata": {}
  },
  {
   "cell_type": "code",
   "execution_count": null,
   "source": [],
   "outputs": [],
   "metadata": {}
  },
  {
   "cell_type": "code",
   "execution_count": 37,
   "source": [
    "df_merge.dtypes"
   ],
   "outputs": [
    {
     "output_type": "execute_result",
     "data": {
      "text/plain": [
       "codigo_rp                                float64\n",
       "Tipo Documento                            object\n",
       "Nro Documento                            float64\n",
       "Apellido y Nombre_x                       object\n",
       "direccion                                 object\n",
       "localidad                                 object\n",
       "provincia                                 object\n",
       "CP                                       float64\n",
       "Telefono_x                                object\n",
       "Fecha Nacimiento                          object\n",
       "Sexo                                      object\n",
       "Num-Afiliacion                            object\n",
       "CodDiagnostico                            object\n",
       "Cod Prestación                            object\n",
       "Fecha Práctica                            object\n",
       "Cantidad                                 float64\n",
       "Nro Orden                                float64\n",
       "descrip_diagnostico                       object\n",
       "impor_hono                                object\n",
       "impor_gastos                              object\n",
       "orden_rp                                 float64\n",
       "secuen_rp                                float64\n",
       "confirmado                                object\n",
       "bono_nume                                float64\n",
       "N° de Visita                             float64\n",
       "Estado                                    object\n",
       "Fecha comienzo                            object\n",
       "Fecha fin                                 object\n",
       "Duración                                  object\n",
       "Telefono_y                                object\n",
       "Apellido y Nombre_y                       object\n",
       "DNI del responsable de la visita         float64\n",
       "Responsable de la visita                  object\n",
       "N° matrícula responsable de la visita    float64\n",
       "Tipo servicio prestador                   object\n",
       "Email responsable de la visita            object\n",
       "Razón social de Empresa Prestadora        object\n",
       "SAP de Empresa Prestadora                float64\n",
       "UGL de Empresa Prestadora                float64\n",
       "dtype: object"
      ]
     },
     "metadata": {},
     "execution_count": 37
    }
   ],
   "metadata": {}
  },
  {
   "cell_type": "code",
   "execution_count": null,
   "source": [],
   "outputs": [],
   "metadata": {}
  },
  {
   "cell_type": "code",
   "execution_count": 38,
   "source": [
    "#df_merge.to_csv('merge.csv')"
   ],
   "outputs": [],
   "metadata": {}
  },
  {
   "cell_type": "code",
   "execution_count": 39,
   "source": [
    "df_merge"
   ],
   "outputs": [
    {
     "output_type": "execute_result",
     "data": {
      "text/plain": [
       "         codigo_rp Tipo Documento  Nro Documento   Apellido y Nombre_x  \\\n",
       "0       95908061.0             DI      7975217.0  ABALLAY MIGUEL ANGEL   \n",
       "1       95908061.0             DI      7975217.0  ABALLAY MIGUEL ANGEL   \n",
       "2       95908061.0             DI      7975217.0  ABALLAY MIGUEL ANGEL   \n",
       "3       95908061.0             DI      7975217.0  ABALLAY MIGUEL ANGEL   \n",
       "4       95908061.0             DI      7975217.0  ABALLAY MIGUEL ANGEL   \n",
       "...            ...            ...            ...                   ...   \n",
       "623140         NaN            NaN            NaN                   NaN   \n",
       "623141         NaN            NaN            NaN                   NaN   \n",
       "623142         NaN            NaN            NaN                   NaN   \n",
       "623143         NaN            NaN            NaN                   NaN   \n",
       "623144         NaN            NaN            NaN                   NaN   \n",
       "\n",
       "                          direccion localidad provincia      CP  Telefono_x  \\\n",
       "0       MENDOZA Bº PROVIDENCIA 1080   CORDOBA   Cordoba  5000.0  3512233816   \n",
       "1       MENDOZA Bº PROVIDENCIA 1080   CORDOBA   Cordoba  5000.0  3512233816   \n",
       "2       MENDOZA Bº PROVIDENCIA 1080   CORDOBA   Cordoba  5000.0  3512233816   \n",
       "3       MENDOZA Bº PROVIDENCIA 1080   CORDOBA   Cordoba  5000.0  3512233816   \n",
       "4       MENDOZA Bº PROVIDENCIA 1080   CORDOBA   Cordoba  5000.0  3512233816   \n",
       "...                             ...       ...       ...     ...         ...   \n",
       "623140                          NaN       NaN       NaN     NaN         NaN   \n",
       "623141                          NaN       NaN       NaN     NaN         NaN   \n",
       "623142                          NaN       NaN       NaN     NaN         NaN   \n",
       "623143                          NaN       NaN       NaN     NaN         NaN   \n",
       "623144                          NaN       NaN       NaN     NaN         NaN   \n",
       "\n",
       "       Fecha Nacimiento  ...  Telefono_y        Apellido y Nombre_y  \\\n",
       "0            23/10/1943  ...  3514743651       ABALLAY MIGUEL ANGEL   \n",
       "1            23/10/1943  ...  3512631120       ABALLAY MIGUEL ANGEL   \n",
       "2            23/10/1943  ...  3514743651       ABALLAY MIGUEL ANGEL   \n",
       "3            23/10/1943  ...  3512631120       ABALLAY MIGUEL ANGEL   \n",
       "4            23/10/1943  ...  3512631120       ABALLAY MIGUEL ANGEL   \n",
       "...                 ...  ...         ...                        ...   \n",
       "623140              NaN  ...  3513216105          LOZA PEDRO MIGUEL   \n",
       "623141              NaN  ...  3515516145            PAPALINI NELIDA   \n",
       "623142              NaN  ...  3515516145            PAPALINI NELIDA   \n",
       "623143              NaN  ...  3521475659       ALANIS GERONIMA ELBA   \n",
       "623144              NaN  ...  3521443363  CASTRO FELISA DEL CORAZON   \n",
       "\n",
       "       DNI del responsable de la visita            Responsable de la visita  \\\n",
       "0                            20776946.0                  Sergio Daniel SOSA   \n",
       "1                            31556997.0  Luciana Elizabeth de Lourdes VELEZ   \n",
       "2                            20776946.0                  Sergio Daniel SOSA   \n",
       "3                            31556997.0  Luciana Elizabeth de Lourdes VELEZ   \n",
       "4                            10377690.0                Carlos Alberto PREGO   \n",
       "...                                 ...                                 ...   \n",
       "623140                       27141343.0             Eugenia Veronica VALDEZ   \n",
       "623141                       17729838.0        Luis Antonio Jorge RODRIGUEZ   \n",
       "623142                       17729838.0        Luis Antonio Jorge RODRIGUEZ   \n",
       "623143                       26252983.0            Liliana Paola BRACAMONTE   \n",
       "623144                       22424861.0                  Jorge Isaac BIONDA   \n",
       "\n",
       "       N° matrícula responsable de la visita  Tipo servicio prestador  \\\n",
       "0                                    38550.0                 Médica/o   \n",
       "1                                    11120.0              Enfermera/o   \n",
       "2                                    38550.0                 Médica/o   \n",
       "3                                    11120.0              Enfermera/o   \n",
       "4                                     1142.0            Kinesióloga/o   \n",
       "...                                      ...                      ...   \n",
       "623140                                7526.0          Fonoaudióloga/o   \n",
       "623141                               10253.0              Enfermera/o   \n",
       "623142                               10253.0              Enfermera/o   \n",
       "623143                                3484.0            Kinesióloga/o   \n",
       "623144                                5280.0            Kinesióloga/o   \n",
       "\n",
       "        Email responsable de la visita Razón social de Empresa Prestadora  \\\n",
       "0                 sedasove@hotmail.com          SAD CORDOBA S.A. - UGL 03   \n",
       "1       luciana.velezsoler@hotmail.com          SAD CORDOBA S.A. - UGL 03   \n",
       "2                 sedasove@hotmail.com          SAD CORDOBA S.A. - UGL 03   \n",
       "3       luciana.velezsoler@hotmail.com          SAD CORDOBA S.A. - UGL 03   \n",
       "4        carlosalbertoprego2@gmail.com          SAD CORDOBA S.A. - UGL 03   \n",
       "...                                ...                                ...   \n",
       "623140        veronicazedlav@gmail.com          SAD CORDOBA S.A. - UGL 03   \n",
       "623141     luisantoniojorger@gmail.com          SAD CORDOBA S.A. - UGL 03   \n",
       "623142     luisantoniojorger@gmail.com          SAD CORDOBA S.A. - UGL 03   \n",
       "623143       paobracamonte@hotmail.com          SAD CORDOBA S.A. - UGL 03   \n",
       "623144             byorchs@hotmail.com          SAD CORDOBA S.A. - UGL 03   \n",
       "\n",
       "       SAP de Empresa Prestadora UGL de Empresa Prestadora  \n",
       "0                        96954.0                       3.0  \n",
       "1                        96954.0                       3.0  \n",
       "2                        96954.0                       3.0  \n",
       "3                        96954.0                       3.0  \n",
       "4                        96954.0                       3.0  \n",
       "...                          ...                       ...  \n",
       "623140                   96954.0                       3.0  \n",
       "623141                   96954.0                       3.0  \n",
       "623142                   96954.0                       3.0  \n",
       "623143                   96954.0                       3.0  \n",
       "623144                   96954.0                       3.0  \n",
       "\n",
       "[623145 rows x 39 columns]"
      ],
      "text/html": [
       "<div>\n",
       "<style scoped>\n",
       "    .dataframe tbody tr th:only-of-type {\n",
       "        vertical-align: middle;\n",
       "    }\n",
       "\n",
       "    .dataframe tbody tr th {\n",
       "        vertical-align: top;\n",
       "    }\n",
       "\n",
       "    .dataframe thead th {\n",
       "        text-align: right;\n",
       "    }\n",
       "</style>\n",
       "<table border=\"1\" class=\"dataframe\">\n",
       "  <thead>\n",
       "    <tr style=\"text-align: right;\">\n",
       "      <th></th>\n",
       "      <th>codigo_rp</th>\n",
       "      <th>Tipo Documento</th>\n",
       "      <th>Nro Documento</th>\n",
       "      <th>Apellido y Nombre_x</th>\n",
       "      <th>direccion</th>\n",
       "      <th>localidad</th>\n",
       "      <th>provincia</th>\n",
       "      <th>CP</th>\n",
       "      <th>Telefono_x</th>\n",
       "      <th>Fecha Nacimiento</th>\n",
       "      <th>...</th>\n",
       "      <th>Telefono_y</th>\n",
       "      <th>Apellido y Nombre_y</th>\n",
       "      <th>DNI del responsable de la visita</th>\n",
       "      <th>Responsable de la visita</th>\n",
       "      <th>N° matrícula responsable de la visita</th>\n",
       "      <th>Tipo servicio prestador</th>\n",
       "      <th>Email responsable de la visita</th>\n",
       "      <th>Razón social de Empresa Prestadora</th>\n",
       "      <th>SAP de Empresa Prestadora</th>\n",
       "      <th>UGL de Empresa Prestadora</th>\n",
       "    </tr>\n",
       "  </thead>\n",
       "  <tbody>\n",
       "    <tr>\n",
       "      <th>0</th>\n",
       "      <td>95908061.0</td>\n",
       "      <td>DI</td>\n",
       "      <td>7975217.0</td>\n",
       "      <td>ABALLAY MIGUEL ANGEL</td>\n",
       "      <td>MENDOZA Bº PROVIDENCIA 1080</td>\n",
       "      <td>CORDOBA</td>\n",
       "      <td>Cordoba</td>\n",
       "      <td>5000.0</td>\n",
       "      <td>3512233816</td>\n",
       "      <td>23/10/1943</td>\n",
       "      <td>...</td>\n",
       "      <td>3514743651</td>\n",
       "      <td>ABALLAY MIGUEL ANGEL</td>\n",
       "      <td>20776946.0</td>\n",
       "      <td>Sergio Daniel SOSA</td>\n",
       "      <td>38550.0</td>\n",
       "      <td>Médica/o</td>\n",
       "      <td>sedasove@hotmail.com</td>\n",
       "      <td>SAD CORDOBA S.A. - UGL 03</td>\n",
       "      <td>96954.0</td>\n",
       "      <td>3.0</td>\n",
       "    </tr>\n",
       "    <tr>\n",
       "      <th>1</th>\n",
       "      <td>95908061.0</td>\n",
       "      <td>DI</td>\n",
       "      <td>7975217.0</td>\n",
       "      <td>ABALLAY MIGUEL ANGEL</td>\n",
       "      <td>MENDOZA Bº PROVIDENCIA 1080</td>\n",
       "      <td>CORDOBA</td>\n",
       "      <td>Cordoba</td>\n",
       "      <td>5000.0</td>\n",
       "      <td>3512233816</td>\n",
       "      <td>23/10/1943</td>\n",
       "      <td>...</td>\n",
       "      <td>3512631120</td>\n",
       "      <td>ABALLAY MIGUEL ANGEL</td>\n",
       "      <td>31556997.0</td>\n",
       "      <td>Luciana Elizabeth de Lourdes VELEZ</td>\n",
       "      <td>11120.0</td>\n",
       "      <td>Enfermera/o</td>\n",
       "      <td>luciana.velezsoler@hotmail.com</td>\n",
       "      <td>SAD CORDOBA S.A. - UGL 03</td>\n",
       "      <td>96954.0</td>\n",
       "      <td>3.0</td>\n",
       "    </tr>\n",
       "    <tr>\n",
       "      <th>2</th>\n",
       "      <td>95908061.0</td>\n",
       "      <td>DI</td>\n",
       "      <td>7975217.0</td>\n",
       "      <td>ABALLAY MIGUEL ANGEL</td>\n",
       "      <td>MENDOZA Bº PROVIDENCIA 1080</td>\n",
       "      <td>CORDOBA</td>\n",
       "      <td>Cordoba</td>\n",
       "      <td>5000.0</td>\n",
       "      <td>3512233816</td>\n",
       "      <td>23/10/1943</td>\n",
       "      <td>...</td>\n",
       "      <td>3514743651</td>\n",
       "      <td>ABALLAY MIGUEL ANGEL</td>\n",
       "      <td>20776946.0</td>\n",
       "      <td>Sergio Daniel SOSA</td>\n",
       "      <td>38550.0</td>\n",
       "      <td>Médica/o</td>\n",
       "      <td>sedasove@hotmail.com</td>\n",
       "      <td>SAD CORDOBA S.A. - UGL 03</td>\n",
       "      <td>96954.0</td>\n",
       "      <td>3.0</td>\n",
       "    </tr>\n",
       "    <tr>\n",
       "      <th>3</th>\n",
       "      <td>95908061.0</td>\n",
       "      <td>DI</td>\n",
       "      <td>7975217.0</td>\n",
       "      <td>ABALLAY MIGUEL ANGEL</td>\n",
       "      <td>MENDOZA Bº PROVIDENCIA 1080</td>\n",
       "      <td>CORDOBA</td>\n",
       "      <td>Cordoba</td>\n",
       "      <td>5000.0</td>\n",
       "      <td>3512233816</td>\n",
       "      <td>23/10/1943</td>\n",
       "      <td>...</td>\n",
       "      <td>3512631120</td>\n",
       "      <td>ABALLAY MIGUEL ANGEL</td>\n",
       "      <td>31556997.0</td>\n",
       "      <td>Luciana Elizabeth de Lourdes VELEZ</td>\n",
       "      <td>11120.0</td>\n",
       "      <td>Enfermera/o</td>\n",
       "      <td>luciana.velezsoler@hotmail.com</td>\n",
       "      <td>SAD CORDOBA S.A. - UGL 03</td>\n",
       "      <td>96954.0</td>\n",
       "      <td>3.0</td>\n",
       "    </tr>\n",
       "    <tr>\n",
       "      <th>4</th>\n",
       "      <td>95908061.0</td>\n",
       "      <td>DI</td>\n",
       "      <td>7975217.0</td>\n",
       "      <td>ABALLAY MIGUEL ANGEL</td>\n",
       "      <td>MENDOZA Bº PROVIDENCIA 1080</td>\n",
       "      <td>CORDOBA</td>\n",
       "      <td>Cordoba</td>\n",
       "      <td>5000.0</td>\n",
       "      <td>3512233816</td>\n",
       "      <td>23/10/1943</td>\n",
       "      <td>...</td>\n",
       "      <td>3512631120</td>\n",
       "      <td>ABALLAY MIGUEL ANGEL</td>\n",
       "      <td>10377690.0</td>\n",
       "      <td>Carlos Alberto PREGO</td>\n",
       "      <td>1142.0</td>\n",
       "      <td>Kinesióloga/o</td>\n",
       "      <td>carlosalbertoprego2@gmail.com</td>\n",
       "      <td>SAD CORDOBA S.A. - UGL 03</td>\n",
       "      <td>96954.0</td>\n",
       "      <td>3.0</td>\n",
       "    </tr>\n",
       "    <tr>\n",
       "      <th>...</th>\n",
       "      <td>...</td>\n",
       "      <td>...</td>\n",
       "      <td>...</td>\n",
       "      <td>...</td>\n",
       "      <td>...</td>\n",
       "      <td>...</td>\n",
       "      <td>...</td>\n",
       "      <td>...</td>\n",
       "      <td>...</td>\n",
       "      <td>...</td>\n",
       "      <td>...</td>\n",
       "      <td>...</td>\n",
       "      <td>...</td>\n",
       "      <td>...</td>\n",
       "      <td>...</td>\n",
       "      <td>...</td>\n",
       "      <td>...</td>\n",
       "      <td>...</td>\n",
       "      <td>...</td>\n",
       "      <td>...</td>\n",
       "      <td>...</td>\n",
       "    </tr>\n",
       "    <tr>\n",
       "      <th>623140</th>\n",
       "      <td>NaN</td>\n",
       "      <td>NaN</td>\n",
       "      <td>NaN</td>\n",
       "      <td>NaN</td>\n",
       "      <td>NaN</td>\n",
       "      <td>NaN</td>\n",
       "      <td>NaN</td>\n",
       "      <td>NaN</td>\n",
       "      <td>NaN</td>\n",
       "      <td>NaN</td>\n",
       "      <td>...</td>\n",
       "      <td>3513216105</td>\n",
       "      <td>LOZA PEDRO MIGUEL</td>\n",
       "      <td>27141343.0</td>\n",
       "      <td>Eugenia Veronica VALDEZ</td>\n",
       "      <td>7526.0</td>\n",
       "      <td>Fonoaudióloga/o</td>\n",
       "      <td>veronicazedlav@gmail.com</td>\n",
       "      <td>SAD CORDOBA S.A. - UGL 03</td>\n",
       "      <td>96954.0</td>\n",
       "      <td>3.0</td>\n",
       "    </tr>\n",
       "    <tr>\n",
       "      <th>623141</th>\n",
       "      <td>NaN</td>\n",
       "      <td>NaN</td>\n",
       "      <td>NaN</td>\n",
       "      <td>NaN</td>\n",
       "      <td>NaN</td>\n",
       "      <td>NaN</td>\n",
       "      <td>NaN</td>\n",
       "      <td>NaN</td>\n",
       "      <td>NaN</td>\n",
       "      <td>NaN</td>\n",
       "      <td>...</td>\n",
       "      <td>3515516145</td>\n",
       "      <td>PAPALINI NELIDA</td>\n",
       "      <td>17729838.0</td>\n",
       "      <td>Luis Antonio Jorge RODRIGUEZ</td>\n",
       "      <td>10253.0</td>\n",
       "      <td>Enfermera/o</td>\n",
       "      <td>luisantoniojorger@gmail.com</td>\n",
       "      <td>SAD CORDOBA S.A. - UGL 03</td>\n",
       "      <td>96954.0</td>\n",
       "      <td>3.0</td>\n",
       "    </tr>\n",
       "    <tr>\n",
       "      <th>623142</th>\n",
       "      <td>NaN</td>\n",
       "      <td>NaN</td>\n",
       "      <td>NaN</td>\n",
       "      <td>NaN</td>\n",
       "      <td>NaN</td>\n",
       "      <td>NaN</td>\n",
       "      <td>NaN</td>\n",
       "      <td>NaN</td>\n",
       "      <td>NaN</td>\n",
       "      <td>NaN</td>\n",
       "      <td>...</td>\n",
       "      <td>3515516145</td>\n",
       "      <td>PAPALINI NELIDA</td>\n",
       "      <td>17729838.0</td>\n",
       "      <td>Luis Antonio Jorge RODRIGUEZ</td>\n",
       "      <td>10253.0</td>\n",
       "      <td>Enfermera/o</td>\n",
       "      <td>luisantoniojorger@gmail.com</td>\n",
       "      <td>SAD CORDOBA S.A. - UGL 03</td>\n",
       "      <td>96954.0</td>\n",
       "      <td>3.0</td>\n",
       "    </tr>\n",
       "    <tr>\n",
       "      <th>623143</th>\n",
       "      <td>NaN</td>\n",
       "      <td>NaN</td>\n",
       "      <td>NaN</td>\n",
       "      <td>NaN</td>\n",
       "      <td>NaN</td>\n",
       "      <td>NaN</td>\n",
       "      <td>NaN</td>\n",
       "      <td>NaN</td>\n",
       "      <td>NaN</td>\n",
       "      <td>NaN</td>\n",
       "      <td>...</td>\n",
       "      <td>3521475659</td>\n",
       "      <td>ALANIS GERONIMA ELBA</td>\n",
       "      <td>26252983.0</td>\n",
       "      <td>Liliana Paola BRACAMONTE</td>\n",
       "      <td>3484.0</td>\n",
       "      <td>Kinesióloga/o</td>\n",
       "      <td>paobracamonte@hotmail.com</td>\n",
       "      <td>SAD CORDOBA S.A. - UGL 03</td>\n",
       "      <td>96954.0</td>\n",
       "      <td>3.0</td>\n",
       "    </tr>\n",
       "    <tr>\n",
       "      <th>623144</th>\n",
       "      <td>NaN</td>\n",
       "      <td>NaN</td>\n",
       "      <td>NaN</td>\n",
       "      <td>NaN</td>\n",
       "      <td>NaN</td>\n",
       "      <td>NaN</td>\n",
       "      <td>NaN</td>\n",
       "      <td>NaN</td>\n",
       "      <td>NaN</td>\n",
       "      <td>NaN</td>\n",
       "      <td>...</td>\n",
       "      <td>3521443363</td>\n",
       "      <td>CASTRO FELISA DEL CORAZON</td>\n",
       "      <td>22424861.0</td>\n",
       "      <td>Jorge Isaac BIONDA</td>\n",
       "      <td>5280.0</td>\n",
       "      <td>Kinesióloga/o</td>\n",
       "      <td>byorchs@hotmail.com</td>\n",
       "      <td>SAD CORDOBA S.A. - UGL 03</td>\n",
       "      <td>96954.0</td>\n",
       "      <td>3.0</td>\n",
       "    </tr>\n",
       "  </tbody>\n",
       "</table>\n",
       "<p>623145 rows × 39 columns</p>\n",
       "</div>"
      ]
     },
     "metadata": {},
     "execution_count": 39
    }
   ],
   "metadata": {}
  },
  {
   "cell_type": "code",
   "execution_count": null,
   "source": [],
   "outputs": [],
   "metadata": {}
  }
 ],
 "metadata": {
  "kernelspec": {
   "display_name": "Python 3",
   "language": "python",
   "name": "python3"
  },
  "language_info": {
   "codemirror_mode": {
    "name": "ipython",
    "version": 3
   },
   "file_extension": ".py",
   "mimetype": "text/x-python",
   "name": "python",
   "nbconvert_exporter": "python",
   "pygments_lexer": "ipython3",
   "version": "3.8.8"
  }
 },
 "nbformat": 4,
 "nbformat_minor": 5
}