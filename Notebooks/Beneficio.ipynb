{
 "cells": [
  {
   "cell_type": "code",
   "execution_count": 1,
   "id": "933d1559",
   "metadata": {},
   "outputs": [],
   "source": [
    "import pandas as pd\n",
    "import numpy as np\n",
    "import datetime"
   ]
  },
  {
   "cell_type": "code",
   "execution_count": 2,
   "id": "dd1cfbff",
   "metadata": {},
   "outputs": [],
   "source": [
    "base = pd.read_csv('../Datos/202106/base_txt_202106.csv')"
   ]
  },
  {
   "cell_type": "code",
   "execution_count": 3,
   "id": "50421d59",
   "metadata": {},
   "outputs": [
    {
     "data": {
      "text/plain": [
       "Index(['Apellido y Nombre', 'Tipo Documento', 'Nro Documento', 'Estado Civil',\n",
       "       'Nacionalidad', 'Calle', 'Puerta', 'Piso', 'Dpto', 'CP', 'Telefono',\n",
       "       'Fecha Nacimiento', 'Sexo', 'CUIT', 'CUIL', 'Beneficio', 'Parentesco',\n",
       "       'Sucursal', 'Agencia', 'Corresponsalia', 'Afip', 'Afiliacion',\n",
       "       'Formulario', 'Fecha Baja', 'Codigo Baja', 'B1', 'CodDiagno',\n",
       "       'CodDiagnostico', 'Tipo Diagnostico', 'B2', 'CodPresta',\n",
       "       'Cod Prestación', 'Fecha Práctica', 'Cantidad', 'Modalidad',\n",
       "       'Nro Orden', 'B3', 'Ctrol 1', 'CTROL 2', 'Ctrol 3', 'CONCATENAR',\n",
       "       'CONTROL 4', 'CONTROL  DIAS', 'CONTROL 5 COD', '****', '¨¨¨¨', 'VERDE',\n",
       "       'CONTROL TRANSMISION', 'CONTROL TRANSMISION- N°', 'Unnamed: 49',\n",
       "       'DIAS MES', '30/6/2021', 'Unnamed: 52', '4/6/2021', '7', '4',\n",
       "       '2/7/2021'],\n",
       "      dtype='object')"
      ]
     },
     "execution_count": 3,
     "metadata": {},
     "output_type": "execute_result"
    }
   ],
   "source": [
    "base.columns\n"
   ]
  },
  {
   "cell_type": "code",
   "execution_count": null,
   "id": "bc72de4f-04fd-424a-a878-9303397e28d4",
   "metadata": {},
   "outputs": [],
   "source": []
  },
  {
   "cell_type": "code",
   "execution_count": 4,
   "id": "f37c253f",
   "metadata": {},
   "outputs": [],
   "source": [
    "result = base.groupby('Beneficio').agg({'Fecha Práctica': ['min']})"
   ]
  },
  {
   "cell_type": "code",
   "execution_count": 5,
   "id": "8721f7b8",
   "metadata": {},
   "outputs": [
    {
     "data": {
      "text/html": [
       "<div>\n",
       "<style scoped>\n",
       "    .dataframe tbody tr th:only-of-type {\n",
       "        vertical-align: middle;\n",
       "    }\n",
       "\n",
       "    .dataframe tbody tr th {\n",
       "        vertical-align: top;\n",
       "    }\n",
       "\n",
       "    .dataframe thead tr th {\n",
       "        text-align: left;\n",
       "    }\n",
       "\n",
       "    .dataframe thead tr:last-of-type th {\n",
       "        text-align: right;\n",
       "    }\n",
       "</style>\n",
       "<table border=\"1\" class=\"dataframe\">\n",
       "  <thead>\n",
       "    <tr>\n",
       "      <th></th>\n",
       "      <th>Fecha Práctica</th>\n",
       "    </tr>\n",
       "    <tr>\n",
       "      <th></th>\n",
       "      <th>min</th>\n",
       "    </tr>\n",
       "    <tr>\n",
       "      <th>Beneficio</th>\n",
       "      <th></th>\n",
       "    </tr>\n",
       "  </thead>\n",
       "  <tbody>\n",
       "    <tr>\n",
       "      <th>10094159807</th>\n",
       "      <td>1/6/2021</td>\n",
       "    </tr>\n",
       "    <tr>\n",
       "      <th>15022727702</th>\n",
       "      <td>1/6/2021</td>\n",
       "    </tr>\n",
       "    <tr>\n",
       "      <th>20082001701</th>\n",
       "      <td>1/6/2021</td>\n",
       "    </tr>\n",
       "    <tr>\n",
       "      <th>20092449905</th>\n",
       "      <td>10/6/2021</td>\n",
       "    </tr>\n",
       "    <tr>\n",
       "      <th>20103347001</th>\n",
       "      <td>1/6/2021</td>\n",
       "    </tr>\n",
       "    <tr>\n",
       "      <th>...</th>\n",
       "      <td>...</td>\n",
       "    </tr>\n",
       "    <tr>\n",
       "      <th>155967738600</th>\n",
       "      <td>1/6/2021</td>\n",
       "    </tr>\n",
       "    <tr>\n",
       "      <th>405063891403</th>\n",
       "      <td>1/6/2021</td>\n",
       "    </tr>\n",
       "    <tr>\n",
       "      <th>465000686802</th>\n",
       "      <td>1/6/2021</td>\n",
       "    </tr>\n",
       "    <tr>\n",
       "      <th>465005169600</th>\n",
       "      <td>1/6/2021</td>\n",
       "    </tr>\n",
       "    <tr>\n",
       "      <th>465005883405</th>\n",
       "      <td>1/6/2021</td>\n",
       "    </tr>\n",
       "  </tbody>\n",
       "</table>\n",
       "<p>189 rows × 1 columns</p>\n",
       "</div>"
      ],
      "text/plain": [
       "             Fecha Práctica\n",
       "                        min\n",
       "Beneficio                  \n",
       "10094159807        1/6/2021\n",
       "15022727702        1/6/2021\n",
       "20082001701        1/6/2021\n",
       "20092449905       10/6/2021\n",
       "20103347001        1/6/2021\n",
       "...                     ...\n",
       "155967738600       1/6/2021\n",
       "405063891403       1/6/2021\n",
       "465000686802       1/6/2021\n",
       "465005169600       1/6/2021\n",
       "465005883405       1/6/2021\n",
       "\n",
       "[189 rows x 1 columns]"
      ]
     },
     "execution_count": 5,
     "metadata": {},
     "output_type": "execute_result"
    }
   ],
   "source": [
    "result"
   ]
  },
  {
   "cell_type": "code",
   "execution_count": 6,
   "id": "eda4250f",
   "metadata": {},
   "outputs": [],
   "source": [
    "result = result['Fecha Práctica']\n",
    "   "
   ]
  },
  {
   "cell_type": "code",
   "execution_count": 7,
   "id": "53a1bd64",
   "metadata": {},
   "outputs": [],
   "source": [
    "result=result.reset_index()"
   ]
  },
  {
   "cell_type": "code",
   "execution_count": 8,
   "id": "db424243",
   "metadata": {},
   "outputs": [
    {
     "data": {
      "text/html": [
       "<div>\n",
       "<style scoped>\n",
       "    .dataframe tbody tr th:only-of-type {\n",
       "        vertical-align: middle;\n",
       "    }\n",
       "\n",
       "    .dataframe tbody tr th {\n",
       "        vertical-align: top;\n",
       "    }\n",
       "\n",
       "    .dataframe thead th {\n",
       "        text-align: right;\n",
       "    }\n",
       "</style>\n",
       "<table border=\"1\" class=\"dataframe\">\n",
       "  <thead>\n",
       "    <tr style=\"text-align: right;\">\n",
       "      <th></th>\n",
       "      <th>Beneficio</th>\n",
       "      <th>min</th>\n",
       "    </tr>\n",
       "  </thead>\n",
       "  <tbody>\n",
       "    <tr>\n",
       "      <th>0</th>\n",
       "      <td>10094159807</td>\n",
       "      <td>1/6/2021</td>\n",
       "    </tr>\n",
       "    <tr>\n",
       "      <th>1</th>\n",
       "      <td>15022727702</td>\n",
       "      <td>1/6/2021</td>\n",
       "    </tr>\n",
       "    <tr>\n",
       "      <th>2</th>\n",
       "      <td>20082001701</td>\n",
       "      <td>1/6/2021</td>\n",
       "    </tr>\n",
       "    <tr>\n",
       "      <th>3</th>\n",
       "      <td>20092449905</td>\n",
       "      <td>10/6/2021</td>\n",
       "    </tr>\n",
       "    <tr>\n",
       "      <th>4</th>\n",
       "      <td>20103347001</td>\n",
       "      <td>1/6/2021</td>\n",
       "    </tr>\n",
       "    <tr>\n",
       "      <th>...</th>\n",
       "      <td>...</td>\n",
       "      <td>...</td>\n",
       "    </tr>\n",
       "    <tr>\n",
       "      <th>184</th>\n",
       "      <td>155967738600</td>\n",
       "      <td>1/6/2021</td>\n",
       "    </tr>\n",
       "    <tr>\n",
       "      <th>185</th>\n",
       "      <td>405063891403</td>\n",
       "      <td>1/6/2021</td>\n",
       "    </tr>\n",
       "    <tr>\n",
       "      <th>186</th>\n",
       "      <td>465000686802</td>\n",
       "      <td>1/6/2021</td>\n",
       "    </tr>\n",
       "    <tr>\n",
       "      <th>187</th>\n",
       "      <td>465005169600</td>\n",
       "      <td>1/6/2021</td>\n",
       "    </tr>\n",
       "    <tr>\n",
       "      <th>188</th>\n",
       "      <td>465005883405</td>\n",
       "      <td>1/6/2021</td>\n",
       "    </tr>\n",
       "  </tbody>\n",
       "</table>\n",
       "<p>189 rows × 2 columns</p>\n",
       "</div>"
      ],
      "text/plain": [
       "        Beneficio        min\n",
       "0     10094159807   1/6/2021\n",
       "1     15022727702   1/6/2021\n",
       "2     20082001701   1/6/2021\n",
       "3     20092449905  10/6/2021\n",
       "4     20103347001   1/6/2021\n",
       "..            ...        ...\n",
       "184  155967738600   1/6/2021\n",
       "185  405063891403   1/6/2021\n",
       "186  465000686802   1/6/2021\n",
       "187  465005169600   1/6/2021\n",
       "188  465005883405   1/6/2021\n",
       "\n",
       "[189 rows x 2 columns]"
      ]
     },
     "execution_count": 8,
     "metadata": {},
     "output_type": "execute_result"
    }
   ],
   "source": [
    "result"
   ]
  },
  {
   "cell_type": "code",
   "execution_count": 9,
   "id": "40729a44",
   "metadata": {},
   "outputs": [],
   "source": [
    "#cambiar nombre de columna min\n",
    "result = result.rename(columns = {'min': 'Fecha_prestacion'})"
   ]
  },
  {
   "cell_type": "code",
   "execution_count": 10,
   "id": "d19c7658",
   "metadata": {},
   "outputs": [],
   "source": [
    "#cambiar el formato de la fecha \n",
    "result['Fecha_prestacion'] = pd.to_datetime(result['Fecha_prestacion'], dayfirst=True, format=\"%d/%m/%Y\").dt.strftime('%d/%m/%Y')"
   ]
  },
  {
   "cell_type": "code",
   "execution_count": 11,
   "id": "7ecc903e",
   "metadata": {},
   "outputs": [],
   "source": [
    "#paso a str \n",
    "result ['Beneficio'] = result ['Beneficio'].astype(str)"
   ]
  },
  {
   "cell_type": "code",
   "execution_count": 12,
   "id": "a725556b",
   "metadata": {},
   "outputs": [],
   "source": [
    "#agregar 0 \n",
    "def agregar0(df, col: str, d: int):\n",
    "    if (df[col].dtype == object):\n",
    "        c = 0\n",
    "        for i in df[col]:\n",
    "            df.at[c,col] = i.zfill(d)\n",
    "            c +=1\n",
    "    return df[col]"
   ]
  },
  {
   "cell_type": "code",
   "execution_count": 13,
   "id": "3de4e142",
   "metadata": {},
   "outputs": [],
   "source": [
    "result ['Beneficio'] = agregar0(result, 'Beneficio', 12)"
   ]
  },
  {
   "cell_type": "code",
   "execution_count": 14,
   "id": "e4db9337",
   "metadata": {},
   "outputs": [
    {
     "data": {
      "text/html": [
       "<div>\n",
       "<style scoped>\n",
       "    .dataframe tbody tr th:only-of-type {\n",
       "        vertical-align: middle;\n",
       "    }\n",
       "\n",
       "    .dataframe tbody tr th {\n",
       "        vertical-align: top;\n",
       "    }\n",
       "\n",
       "    .dataframe thead th {\n",
       "        text-align: right;\n",
       "    }\n",
       "</style>\n",
       "<table border=\"1\" class=\"dataframe\">\n",
       "  <thead>\n",
       "    <tr style=\"text-align: right;\">\n",
       "      <th></th>\n",
       "      <th>Beneficio</th>\n",
       "      <th>Fecha_prestacion</th>\n",
       "    </tr>\n",
       "  </thead>\n",
       "  <tbody>\n",
       "    <tr>\n",
       "      <th>0</th>\n",
       "      <td>010094159807</td>\n",
       "      <td>01/06/2021</td>\n",
       "    </tr>\n",
       "    <tr>\n",
       "      <th>1</th>\n",
       "      <td>015022727702</td>\n",
       "      <td>01/06/2021</td>\n",
       "    </tr>\n",
       "    <tr>\n",
       "      <th>2</th>\n",
       "      <td>020082001701</td>\n",
       "      <td>01/06/2021</td>\n",
       "    </tr>\n",
       "    <tr>\n",
       "      <th>3</th>\n",
       "      <td>020092449905</td>\n",
       "      <td>10/06/2021</td>\n",
       "    </tr>\n",
       "    <tr>\n",
       "      <th>4</th>\n",
       "      <td>020103347001</td>\n",
       "      <td>01/06/2021</td>\n",
       "    </tr>\n",
       "    <tr>\n",
       "      <th>...</th>\n",
       "      <td>...</td>\n",
       "      <td>...</td>\n",
       "    </tr>\n",
       "    <tr>\n",
       "      <th>184</th>\n",
       "      <td>155967738600</td>\n",
       "      <td>01/06/2021</td>\n",
       "    </tr>\n",
       "    <tr>\n",
       "      <th>185</th>\n",
       "      <td>405063891403</td>\n",
       "      <td>01/06/2021</td>\n",
       "    </tr>\n",
       "    <tr>\n",
       "      <th>186</th>\n",
       "      <td>465000686802</td>\n",
       "      <td>01/06/2021</td>\n",
       "    </tr>\n",
       "    <tr>\n",
       "      <th>187</th>\n",
       "      <td>465005169600</td>\n",
       "      <td>01/06/2021</td>\n",
       "    </tr>\n",
       "    <tr>\n",
       "      <th>188</th>\n",
       "      <td>465005883405</td>\n",
       "      <td>01/06/2021</td>\n",
       "    </tr>\n",
       "  </tbody>\n",
       "</table>\n",
       "<p>189 rows × 2 columns</p>\n",
       "</div>"
      ],
      "text/plain": [
       "        Beneficio Fecha_prestacion\n",
       "0    010094159807       01/06/2021\n",
       "1    015022727702       01/06/2021\n",
       "2    020082001701       01/06/2021\n",
       "3    020092449905       10/06/2021\n",
       "4    020103347001       01/06/2021\n",
       "..            ...              ...\n",
       "184  155967738600       01/06/2021\n",
       "185  405063891403       01/06/2021\n",
       "186  465000686802       01/06/2021\n",
       "187  465005169600       01/06/2021\n",
       "188  465005883405       01/06/2021\n",
       "\n",
       "[189 rows x 2 columns]"
      ]
     },
     "execution_count": 14,
     "metadata": {},
     "output_type": "execute_result"
    }
   ],
   "source": [
    "result"
   ]
  },
  {
   "cell_type": "code",
   "execution_count": null,
   "id": "738477b2-a995-425e-8538-ab7b80307147",
   "metadata": {},
   "outputs": [],
   "source": []
  },
  {
   "cell_type": "code",
   "execution_count": 15,
   "id": "82f6c472",
   "metadata": {},
   "outputs": [],
   "source": [
    "from io import open\n",
    "\n",
    "archivo = open(\"../Datos/202106/Auxiliares/Beneficio.txt\",\"w\")\n",
    "\n",
    "archivo.write(\"BENEFICIO\\n\")\n",
    "\n",
    "for i,j in zip(result.Beneficio, result.Fecha_prestacion):\n",
    "    archivo.write(\"{}{}{}{}{}{}{}{}{}{}{}\".format(\";\",\";\",\";\",i,\";\",\";\",\";\",\"1\",\";\",j,\"\\n\")) \n",
    "\n",
    "#for i in dataSet.BENEFICIO:\n",
    "    #archivo.write(str(i + \"\\n\"))\n",
    "    \n",
    "archivo.close()"
   ]
  }
 ],
 "metadata": {
  "kernelspec": {
   "display_name": "Python 3",
   "language": "python",
   "name": "python3"
  },
  "language_info": {
   "codemirror_mode": {
    "name": "ipython",
    "version": 3
   },
   "file_extension": ".py",
   "mimetype": "text/x-python",
   "name": "python",
   "nbconvert_exporter": "python",
   "pygments_lexer": "ipython3",
   "version": "3.8.8"
  }
 },
 "nbformat": 4,
 "nbformat_minor": 5
}
