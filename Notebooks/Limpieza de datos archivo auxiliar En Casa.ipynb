{
 "cells": [
  {
   "cell_type": "code",
   "execution_count": 1,
   "id": "c64cfbd1",
   "metadata": {},
   "outputs": [],
   "source": [
    "import pandas as pd\n",
    "import numpy as np\n",
    "from datetime import datetime, date\n"
   ]
  },
  {
   "cell_type": "code",
   "execution_count": 2,
   "id": "8c0e4f66",
   "metadata": {},
   "outputs": [],
   "source": [
    "Arch_auxiliar = pd.read_csv('datos/202106/2021_07_ARCH_Auxiliares_valores.csv')"
   ]
  },
  {
   "cell_type": "code",
   "execution_count": 3,
   "id": "2c85e1cd",
   "metadata": {},
   "outputs": [],
   "source": [
    "#renombro la columna\n",
    "Arch_auxiliar = Arch_auxiliar.rename(columns={'Ctrol Afiliado 1': 'BENEFICIO'})"
   ]
  },
  {
   "cell_type": "code",
   "execution_count": 4,
   "id": "0971cf70",
   "metadata": {},
   "outputs": [],
   "source": [
    "#borro la columna exra\n",
    "Arch_auxiliar = Arch_auxiliar.drop(['Unnamed: 34'], axis=1)"
   ]
  },
  {
   "cell_type": "code",
   "execution_count": 6,
   "id": "2efc463a",
   "metadata": {},
   "outputs": [],
   "source": [
    "#convierto\n",
    "#Arch_auxiliar['NRO. OP'] = Arch_auxiliar['NRO. OP'].astype(str)\n",
    "Arch_auxiliar['Parentesco'] = Arch_auxiliar['Parentesco'].astype(str)\n",
    "\n",
    "\n",
    "#cnvierto a fechas\n",
    "Arch_auxiliar['Activada'] = pd.to_datetime(Arch_auxiliar['Activada'], dayfirst=True, format=\"%d/%m/%Y\")\n",
    "Arch_auxiliar['F. SOLICITUD'] = pd.to_datetime(Arch_auxiliar['F. SOLICITUD'], dayfirst=True, format=\"%d/%m/%Y\")\n",
    "Arch_auxiliar['Activada'] = pd.to_datetime(Arch_auxiliar['Activada'],dayfirst=True, format=\"%d/%m/%Y\")\n",
    "Arch_auxiliar['Generada/Aprobado'] = pd.to_datetime(Arch_auxiliar['Generada/Aprobado'])\n",
    "Arch_auxiliar['Fecha de Inicio'] = pd.to_datetime(Arch_auxiliar['Fecha de Inicio'])\n",
    "Arch_auxiliar['Fecha de fin'] = pd.to_datetime(Arch_auxiliar['Fecha de fin'])"
   ]
  },
  {
   "cell_type": "code",
   "execution_count": 7,
   "id": "7715cc9b",
   "metadata": {},
   "outputs": [],
   "source": [
    "#concateno benef/paren\n",
    "def concat_b_p(b):\n",
    "    xs = b.split()\n",
    "    concat = xs[0] + xs[2]\n",
    "    return concat"
   ]
  },
  {
   "cell_type": "code",
   "execution_count": 8,
   "id": "d0c8c3fd",
   "metadata": {},
   "outputs": [],
   "source": [
    "#agregar ceros\n",
    "def agregar0(df, col: str, d: int):\n",
    "    if (df[col].dtype == object):\n",
    "        c = 0\n",
    "        for i in df[col]:\n",
    "            df.at[c,col] = i.zfill(d)\n",
    "            c +=1\n",
    "    return df[col]"
   ]
  },
  {
   "cell_type": "code",
   "execution_count": 9,
   "id": "d0aa9f50",
   "metadata": {},
   "outputs": [],
   "source": [
    "Arch_auxiliar['NRO. BENEFICIO/GP'] = Arch_auxiliar['NRO. BENEFICIO/GP'].apply(concat_b_p)"
   ]
  },
  {
   "cell_type": "code",
   "execution_count": 10,
   "id": "4bcec8a3",
   "metadata": {},
   "outputs": [],
   "source": [
    "#relleno con 0\n",
    "Arch_auxiliar['NRO. BENEFICIO/GP'] = agregar0(Arch_auxiliar, 'NRO. BENEFICIO/GP', 14)\n",
    "Arch_auxiliar['BENEFICIO'] = agregar0(Arch_auxiliar, 'BENEFICIO', 12)\n",
    "Arch_auxiliar['Parentesco'] = agregar0(Arch_auxiliar, 'Parentesco', 2)"
   ]
  },
  {
   "cell_type": "code",
   "execution_count": 11,
   "id": "c13cbc80",
   "metadata": {},
   "outputs": [],
   "source": [
    "#convertir ciertas fechas en null\n",
    "fechas = ['Fecha de Inicio', 'Fecha de fin', 'Fecha inicio INT 1', 'Fecha FIN INT 1', 'Fecha inicio INT 2', 'Fecha FIN INT 2','Fecha inicio INT 3', 'Fecha FIN INT 3','OBITO']\n",
    "sin_fechas = ['S/AGENDA', 'S/INTERNACION', 'S/OBITO', 'S/D', 'OBITO', 'SIN ALTA']\n",
    "Arch_auxiliar[fechas] = Arch_auxiliar[fechas].applymap(lambda x: None if x in sin_fechas else x)"
   ]
  },
  {
   "cell_type": "code",
   "execution_count": 12,
   "id": "62f34c7e",
   "metadata": {},
   "outputs": [],
   "source": [
    "Arch_auxiliar[fechas] = Arch_auxiliar[fechas].apply(pd.to_datetime)"
   ]
  },
  {
   "cell_type": "code",
   "execution_count": 13,
   "id": "9b0b9608",
   "metadata": {},
   "outputs": [],
   "source": [
    "Arch_auxiliar['NRO. BENEFICIO/GP'] = Arch_auxiliar['NRO. BENEFICIO/GP'].astype(int)"
   ]
  },
  {
   "cell_type": "code",
   "execution_count": 14,
   "id": "61b77e98",
   "metadata": {},
   "outputs": [
    {
     "name": "stdout",
     "output_type": "stream",
     "text": [
      "<class 'pandas.core.frame.DataFrame'>\n",
      "RangeIndex: 242 entries, 0 to 241\n",
      "Data columns (total 34 columns):\n",
      " #   Column                                                 Non-Null Count  Dtype         \n",
      "---  ------                                                 --------------  -----         \n",
      " 0   UGL                                                    242 non-null    object        \n",
      " 1   AGENCIA                                                236 non-null    object        \n",
      " 2   NRO. OP                                                242 non-null    int64         \n",
      " 3   MOTIVO DE EMISION                                      242 non-null    object        \n",
      " 4   PRESTADOR DE RECHAZO                                   0 non-null      float64       \n",
      " 5   F. SOLICITUD                                           242 non-null    datetime64[ns]\n",
      " 6   NRO. BENEFICIO/GP                                      242 non-null    int64         \n",
      " 7   APELLIDO Y NOMBRE                                      242 non-null    object        \n",
      " 8   SOLICITANTE                                            242 non-null    object        \n",
      " 9   PRESTADOR                                              242 non-null    object        \n",
      " 10  ESTADO                                                 242 non-null    object        \n",
      " 11  ESTADO DE PRACTICA: APROBADA                           242 non-null    object        \n",
      " 12  ESTADO DE PRACTICA: RECHAZADA                          126 non-null    object        \n",
      " 13  ESTADO DE PRACTICA: SE SOLICITA INFORMACION ADICIONAL  0 non-null      float64       \n",
      " 14  ESTADO DE PRACTICA: ASIGNAR TURNO                      0 non-null      float64       \n",
      " 15  ESTADO DE PRACTICA: CONFORMAR                          0 non-null      float64       \n",
      " 16  ESTADO DE PRACTICA: NO CONFORMAR                       0 non-null      float64       \n",
      " 17  PENDIENTE DE AUTORIZACION                              0 non-null      float64       \n",
      " 18  USUARIO EMISOR                                         242 non-null    object        \n",
      " 19  BENEFICIO                                              242 non-null    int64         \n",
      " 20  Ctrol Afiliado 2                                       242 non-null    int64         \n",
      " 21  Parentesco                                             242 non-null    object        \n",
      " 22  DIAGNOTICO                                             242 non-null    object        \n",
      " 23  Generada/Aprobado                                      242 non-null    datetime64[ns]\n",
      " 24  Activada                                               242 non-null    datetime64[ns]\n",
      " 25  Fecha de Inicio                                        242 non-null    datetime64[ns]\n",
      " 26  Fecha de fin                                           242 non-null    datetime64[ns]\n",
      " 27  Fecha inicio INT 1                                     20 non-null     datetime64[ns]\n",
      " 28  Fecha FIN INT 1                                        12 non-null     datetime64[ns]\n",
      " 29  Fecha inicio INT 2                                     0 non-null      datetime64[ns]\n",
      " 30  Fecha FIN INT 2                                        0 non-null      datetime64[ns]\n",
      " 31  Fecha inicio INT 3                                     0 non-null      datetime64[ns]\n",
      " 32  Fecha FIN INT 3                                        0 non-null      datetime64[ns]\n",
      " 33  OBITO                                                  9 non-null      datetime64[ns]\n",
      "dtypes: datetime64[ns](12), float64(6), int64(4), object(12)\n",
      "memory usage: 64.4+ KB\n"
     ]
    }
   ],
   "source": [
    "Arch_auxiliar.info()"
   ]
  },
  {
   "cell_type": "code",
   "execution_count": null,
   "id": "57efd666",
   "metadata": {},
   "outputs": [],
   "source": []
  }
 ],
 "metadata": {
  "kernelspec": {
   "display_name": "Python 3",
   "language": "python",
   "name": "python3"
  },
  "language_info": {
   "codemirror_mode": {
    "name": "ipython",
    "version": 3
   },
   "file_extension": ".py",
   "mimetype": "text/x-python",
   "name": "python",
   "nbconvert_exporter": "python",
   "pygments_lexer": "ipython3",
   "version": "3.8.8"
  }
 },
 "nbformat": 4,
 "nbformat_minor": 5
}
