{
 "cells": [
  {
   "cell_type": "code",
   "execution_count": 60,
   "id": "8f12cc82-b647-4e49-8e56-45535eb3593c",
   "metadata": {},
   "outputs": [],
   "source": [
    "import pandas as pd\n",
    "import numpy as np\n",
    "import re\n",
    "from datetime import datetime, date\n",
    "import calendar as cl\n",
    "from Modules.validaciones import *"
   ]
  },
  {
   "cell_type": "code",
   "execution_count": null,
   "id": "b8c93fc6-0a7e-4c7e-b9a3-7e3a2996ca7e",
   "metadata": {},
   "outputs": [],
   "source": []
  },
  {
   "cell_type": "code",
   "execution_count": 61,
   "id": "9bbfd3d0-c24c-479f-869d-b17df10bf5b9",
   "metadata": {},
   "outputs": [],
   "source": [
    "fecha = '2021-08-20'"
   ]
  },
  {
   "cell_type": "code",
   "execution_count": 62,
   "id": "81bf2c2c-07d9-41bd-a611-fff439323ed1",
   "metadata": {},
   "outputs": [
    {
     "data": {
      "text/plain": [
       "datetime.datetime(2021, 8, 20, 0, 0)"
      ]
     },
     "execution_count": 62,
     "metadata": {},
     "output_type": "execute_result"
    }
   ],
   "source": [
    "date = datetime.fromisoformat(fecha)\n",
    "date"
   ]
  },
  {
   "cell_type": "code",
   "execution_count": 63,
   "id": "819574c3-c04a-4c47-95d5-880ed6f9ed99",
   "metadata": {},
   "outputs": [
    {
     "data": {
      "text/plain": [
       "5"
      ]
     },
     "execution_count": 63,
     "metadata": {},
     "output_type": "execute_result"
    }
   ],
   "source": [
    "date.isoweekday()"
   ]
  },
  {
   "cell_type": "code",
   "execution_count": null,
   "id": "4305b316-3f23-48b5-900a-3467e5b4d4da",
   "metadata": {},
   "outputs": [],
   "source": []
  },
  {
   "cell_type": "code",
   "execution_count": null,
   "id": "a43313d3-c248-417b-ad76-5216769fd26f",
   "metadata": {},
   "outputs": [],
   "source": []
  },
  {
   "cell_type": "code",
   "execution_count": 64,
   "id": "96cdd5ab-774d-4cf3-ae69-0f6bc275d248",
   "metadata": {},
   "outputs": [],
   "source": [
    "# date2.isocalendar()"
   ]
  },
  {
   "cell_type": "code",
   "execution_count": null,
   "id": "6b7839fb-f574-4364-a835-f1f02f52882b",
   "metadata": {},
   "outputs": [],
   "source": []
  },
  {
   "cell_type": "code",
   "execution_count": 65,
   "id": "4c4820ac-91d4-4b03-9d97-c5b22b788d77",
   "metadata": {},
   "outputs": [
    {
     "data": {
      "text/plain": [
       "<calendar.Calendar at 0x7f843bfe0910>"
      ]
     },
     "execution_count": 65,
     "metadata": {},
     "output_type": "execute_result"
    }
   ],
   "source": [
    "cl.Calendar(firstweekday=0)"
   ]
  },
  {
   "cell_type": "code",
   "execution_count": 66,
   "id": "3c6a4c84-75a4-4522-b358-0460ed00ba9b",
   "metadata": {},
   "outputs": [],
   "source": [
    "g = cl.Calendar()"
   ]
  },
  {
   "cell_type": "code",
   "execution_count": 67,
   "id": "3596f627-a862-4c18-98e6-8b06815664e1",
   "metadata": {},
   "outputs": [],
   "source": [
    "g = g.itermonthdates(2021, 7)"
   ]
  },
  {
   "cell_type": "code",
   "execution_count": 68,
   "id": "9efaff84-118d-4b39-acbf-5ffee3bddeb7",
   "metadata": {},
   "outputs": [],
   "source": [
    "ls = list(g)"
   ]
  },
  {
   "cell_type": "code",
   "execution_count": null,
   "id": "8e93e7f6-3b3b-467e-b203-3f8e6c4890b4",
   "metadata": {},
   "outputs": [],
   "source": []
  },
  {
   "cell_type": "code",
   "execution_count": 69,
   "id": "4bf45c24-d12f-409f-96fd-993fb461045d",
   "metadata": {},
   "outputs": [
    {
     "data": {
      "text/plain": [
       "datetime.date(2021, 6, 28)"
      ]
     },
     "execution_count": 69,
     "metadata": {},
     "output_type": "execute_result"
    }
   ],
   "source": [
    "ls[0]"
   ]
  },
  {
   "cell_type": "code",
   "execution_count": null,
   "id": "6d1c276e-5d6e-465d-919e-d261e1ef8071",
   "metadata": {},
   "outputs": [],
   "source": []
  },
  {
   "cell_type": "code",
   "execution_count": 70,
   "id": "ab425724-0360-4c44-9782-a29dec7c7f82",
   "metadata": {},
   "outputs": [],
   "source": [
    "h = cl.Calendar()"
   ]
  },
  {
   "cell_type": "code",
   "execution_count": 71,
   "id": "8101b6cf-e018-4f90-b977-5d605929c1b1",
   "metadata": {},
   "outputs": [],
   "source": [
    "ys = h.itermonthdays4(2021, 7)"
   ]
  },
  {
   "cell_type": "code",
   "execution_count": null,
   "id": "00a45308-162d-4431-a807-d619375925b9",
   "metadata": {},
   "outputs": [],
   "source": []
  },
  {
   "cell_type": "code",
   "execution_count": 72,
   "id": "d087883c-d131-4a38-b838-5373c6fd6ca3",
   "metadata": {},
   "outputs": [
    {
     "data": {
      "text/plain": [
       "[[0, 0, 0, 0, 0, 0, 1],\n",
       " [2, 3, 4, 5, 6, 7, 8],\n",
       " [9, 10, 11, 12, 13, 14, 15],\n",
       " [16, 17, 18, 19, 20, 21, 22],\n",
       " [23, 24, 25, 26, 27, 28, 29],\n",
       " [30, 31, 0, 0, 0, 0, 0]]"
      ]
     },
     "execution_count": 72,
     "metadata": {},
     "output_type": "execute_result"
    }
   ],
   "source": [
    "b = cl.Calendar().monthdayscalendar(2021, 8)\n",
    "b"
   ]
  },
  {
   "cell_type": "code",
   "execution_count": null,
   "id": "83bb7933-8df2-4a86-afad-8fc124259d5d",
   "metadata": {},
   "outputs": [],
   "source": []
  },
  {
   "cell_type": "code",
   "execution_count": 73,
   "id": "6c8296c7-dc1e-4eaa-b50c-15a82de2bf3e",
   "metadata": {},
   "outputs": [],
   "source": [
    "mes = cl.Calendar()"
   ]
  },
  {
   "cell_type": "code",
   "execution_count": 74,
   "id": "34fde9c1-9da3-4f29-bf49-4ea62e8a8692",
   "metadata": {},
   "outputs": [],
   "source": [
    "mes_list = mes.monthdays2calendar(2021, 8)"
   ]
  },
  {
   "cell_type": "code",
   "execution_count": 75,
   "id": "c296a105-3091-476a-89bd-21318c892aa7",
   "metadata": {},
   "outputs": [
    {
     "data": {
      "text/plain": [
       "[[(0, 0), (0, 1), (0, 2), (0, 3), (0, 4), (0, 5), (1, 6)],\n",
       " [(2, 0), (3, 1), (4, 2), (5, 3), (6, 4), (7, 5), (8, 6)],\n",
       " [(9, 0), (10, 1), (11, 2), (12, 3), (13, 4), (14, 5), (15, 6)],\n",
       " [(16, 0), (17, 1), (18, 2), (19, 3), (20, 4), (21, 5), (22, 6)],\n",
       " [(23, 0), (24, 1), (25, 2), (26, 3), (27, 4), (28, 5), (29, 6)],\n",
       " [(30, 0), (31, 1), (0, 2), (0, 3), (0, 4), (0, 5), (0, 6)]]"
      ]
     },
     "execution_count": 75,
     "metadata": {},
     "output_type": "execute_result"
    }
   ],
   "source": [
    "mes_list"
   ]
  },
  {
   "cell_type": "code",
   "execution_count": null,
   "id": "25e4c07a-4d2f-4ca8-b286-cf30975a3d05",
   "metadata": {},
   "outputs": [],
   "source": []
  },
  {
   "cell_type": "code",
   "execution_count": null,
   "id": "78e4ba88-e0bb-4090-9b3d-3cf6347bada2",
   "metadata": {},
   "outputs": [],
   "source": []
  },
  {
   "cell_type": "code",
   "execution_count": null,
   "id": "cd21dca7-9f0e-4f40-9f0c-e54836cbb769",
   "metadata": {},
   "outputs": [],
   "source": []
  },
  {
   "cell_type": "code",
   "execution_count": 76,
   "id": "7193b759-2037-464f-a650-fed5d51aad6d",
   "metadata": {},
   "outputs": [
    {
     "data": {
      "text/plain": [
       "[[datetime.date(2021, 8, 1)],\n",
       " [datetime.date(2021, 8, 2),\n",
       "  datetime.date(2021, 8, 3),\n",
       "  datetime.date(2021, 8, 4),\n",
       "  datetime.date(2021, 8, 5),\n",
       "  datetime.date(2021, 8, 6),\n",
       "  datetime.date(2021, 8, 7),\n",
       "  datetime.date(2021, 8, 8)],\n",
       " [datetime.date(2021, 8, 9),\n",
       "  datetime.date(2021, 8, 10),\n",
       "  datetime.date(2021, 8, 11),\n",
       "  datetime.date(2021, 8, 12),\n",
       "  datetime.date(2021, 8, 13),\n",
       "  datetime.date(2021, 8, 14),\n",
       "  datetime.date(2021, 8, 15)],\n",
       " [datetime.date(2021, 8, 16),\n",
       "  datetime.date(2021, 8, 17),\n",
       "  datetime.date(2021, 8, 18),\n",
       "  datetime.date(2021, 8, 19),\n",
       "  datetime.date(2021, 8, 20),\n",
       "  datetime.date(2021, 8, 21),\n",
       "  datetime.date(2021, 8, 22)],\n",
       " [datetime.date(2021, 8, 23),\n",
       "  datetime.date(2021, 8, 24),\n",
       "  datetime.date(2021, 8, 25),\n",
       "  datetime.date(2021, 8, 26),\n",
       "  datetime.date(2021, 8, 27),\n",
       "  datetime.date(2021, 8, 28),\n",
       "  datetime.date(2021, 8, 29)],\n",
       " [datetime.date(2021, 8, 30), datetime.date(2021, 8, 31)]]"
      ]
     },
     "execution_count": 76,
     "metadata": {},
     "output_type": "execute_result"
    }
   ],
   "source": [
    "periodo = datetime(2021, 8, 1)\n",
    "year1 = periodo.year\n",
    "month1 = periodo.month\n",
    "full_fechas = cl.Calendar()\n",
    "full_fechas = full_fechas.monthdatescalendar(year1, month1)\n",
    "full_fechas = [ list(filter(lambda x: x.month == month1, ls)) for ls in full_fechas ]\n",
    "full_fechas"
   ]
  },
  {
   "cell_type": "code",
   "execution_count": null,
   "id": "30af44e3-c9f8-48b6-b25c-6c801f544b25",
   "metadata": {},
   "outputs": [],
   "source": []
  },
  {
   "cell_type": "code",
   "execution_count": 78,
   "id": "8f3aea68-b410-475f-9b2a-72605308cab5",
   "metadata": {},
   "outputs": [
    {
     "data": {
      "text/plain": [
       "datetime.date(2021, 8, 31)"
      ]
     },
     "execution_count": 78,
     "metadata": {},
     "output_type": "execute_result"
    }
   ],
   "source": [
    "full_fechas[-1][-1]"
   ]
  },
  {
   "cell_type": "code",
   "execution_count": null,
   "id": "afb37282-3b29-4216-84e4-07bf677069b0",
   "metadata": {},
   "outputs": [],
   "source": []
  },
  {
   "cell_type": "code",
   "execution_count": 79,
   "id": "6324b350-f95f-4624-9f07-4eca55ae743d",
   "metadata": {},
   "outputs": [],
   "source": [
    "def ultimo_dia(periodo):\n",
    "    year = periodo.year\n",
    "    month = periodo.month\n",
    "    full_fechas = cl.Calendar()\n",
    "    full_fechas = full_fechas.monthdatescalendar(year, month)\n",
    "    full_fechas = [ list(filter(lambda x: x.month == month, ls)) for ls in full_fechas ]\n",
    "    return full_fechas[-1][-1]"
   ]
  },
  {
   "cell_type": "code",
   "execution_count": null,
   "id": "788be9f8-81a3-45d4-a491-7399152d888c",
   "metadata": {},
   "outputs": [],
   "source": []
  },
  {
   "cell_type": "code",
   "execution_count": null,
   "id": "e593bdda-0111-4f45-b59b-3205041b7ce1",
   "metadata": {},
   "outputs": [],
   "source": []
  },
  {
   "cell_type": "code",
   "execution_count": null,
   "id": "cecc63f1-ecf5-4ffa-a1e9-f7c2adc8d246",
   "metadata": {},
   "outputs": [],
   "source": []
  },
  {
   "cell_type": "code",
   "execution_count": null,
   "id": "69c9541c-a9f4-423a-b278-1eeaf09f4eb1",
   "metadata": {},
   "outputs": [],
   "source": []
  },
  {
   "cell_type": "code",
   "execution_count": null,
   "id": "ea905420-3d57-41b4-9f14-de0978b60356",
   "metadata": {},
   "outputs": [],
   "source": [
    "index = 0\n",
    "month_1 = 8\n",
    "for count in range(2):\n",
    "    full_fechas[index] = list(filter(lambda x: x.month == month_1, full_fechas[index]))\n",
    "    index = len(full_fechas) - 1\n",
    "    \n",
    "    "
   ]
  },
  {
   "cell_type": "code",
   "execution_count": null,
   "id": "127fb71b-a1f4-4dbb-8d05-0258dfcf2d57",
   "metadata": {},
   "outputs": [],
   "source": []
  },
  {
   "cell_type": "code",
   "execution_count": null,
   "id": "bf24cfdf-62d5-406f-8284-d7314673ba97",
   "metadata": {},
   "outputs": [],
   "source": [
    "k = \n",
    "k"
   ]
  },
  {
   "cell_type": "code",
   "execution_count": null,
   "id": "a1bc1bc6-1453-49a0-9a26-c9b6ec9b1dad",
   "metadata": {},
   "outputs": [],
   "source": []
  },
  {
   "cell_type": "code",
   "execution_count": null,
   "id": "99cd62a4-8422-41e3-9ee0-b119f45635c9",
   "metadata": {},
   "outputs": [],
   "source": []
  },
  {
   "cell_type": "code",
   "execution_count": null,
   "id": "933d3872-409d-4d38-b01a-e19dfa9b2ec8",
   "metadata": {},
   "outputs": [],
   "source": []
  },
  {
   "cell_type": "code",
   "execution_count": null,
   "id": "38c016b2-f110-4f21-b35f-4269f3210837",
   "metadata": {},
   "outputs": [],
   "source": []
  },
  {
   "cell_type": "code",
   "execution_count": null,
   "id": "93eefa71-0f58-4100-89ae-8835afa07439",
   "metadata": {},
   "outputs": [],
   "source": [
    "hi = [8,2,6,4]\n",
    "hi = list(filter(lambda x: x % 2 == 1, hi))\n",
    "hi"
   ]
  },
  {
   "cell_type": "code",
   "execution_count": null,
   "id": "525f3482-2333-45d1-8cc7-87f2f7966009",
   "metadata": {},
   "outputs": [],
   "source": []
  },
  {
   "cell_type": "code",
   "execution_count": 84,
   "id": "3561023d-6678-4335-a1b2-f67749387d2c",
   "metadata": {},
   "outputs": [
    {
     "data": {
      "text/plain": [
       "[datetime.date(2021, 8, 1),\n",
       " datetime.date(2021, 8, 2),\n",
       " datetime.date(2021, 8, 3),\n",
       " datetime.date(2021, 8, 4),\n",
       " datetime.date(2021, 8, 5),\n",
       " datetime.date(2021, 8, 6),\n",
       " datetime.date(2021, 8, 7),\n",
       " datetime.date(2021, 8, 8),\n",
       " datetime.date(2021, 8, 9),\n",
       " datetime.date(2021, 8, 10),\n",
       " datetime.date(2021, 8, 11),\n",
       " datetime.date(2021, 8, 12),\n",
       " datetime.date(2021, 8, 13),\n",
       " datetime.date(2021, 8, 14),\n",
       " datetime.date(2021, 8, 15),\n",
       " datetime.date(2021, 8, 16),\n",
       " datetime.date(2021, 8, 17),\n",
       " datetime.date(2021, 8, 18),\n",
       " datetime.date(2021, 8, 19),\n",
       " datetime.date(2021, 8, 20),\n",
       " datetime.date(2021, 8, 21),\n",
       " datetime.date(2021, 8, 22),\n",
       " datetime.date(2021, 8, 23),\n",
       " datetime.date(2021, 8, 24),\n",
       " datetime.date(2021, 8, 25),\n",
       " datetime.date(2021, 8, 26),\n",
       " datetime.date(2021, 8, 27),\n",
       " datetime.date(2021, 8, 28),\n",
       " datetime.date(2021, 8, 29),\n",
       " datetime.date(2021, 8, 30),\n",
       " datetime.date(2021, 8, 31)]"
      ]
     },
     "execution_count": 84,
     "metadata": {},
     "output_type": "execute_result"
    }
   ],
   "source": [
    "lista = []\n",
    "interest_fechas = cl.Calendar()\n",
    "year_1 = 2021\n",
    "month_1 = 8\n",
    "for date in interest_fechas.itermonthdates(year_1, month_1):\n",
    "    if (date.month == month_1):\n",
    "        lista.append(date)\n",
    "lista\n",
    "        \n"
   ]
  },
  {
   "cell_type": "code",
   "execution_count": null,
   "id": "c8c8419c-c888-47a1-b9d4-474868aad986",
   "metadata": {},
   "outputs": [],
   "source": []
  },
  {
   "cell_type": "code",
   "execution_count": null,
   "id": "26c1d461-606c-49ba-a6fb-105feb6e6af7",
   "metadata": {},
   "outputs": [],
   "source": []
  },
  {
   "cell_type": "code",
   "execution_count": null,
   "id": "7d866f7f-bbb3-488b-9262-0b6dd22097ef",
   "metadata": {},
   "outputs": [],
   "source": []
  },
  {
   "cell_type": "code",
   "execution_count": null,
   "id": "553b30cb-f2df-4175-be5b-d3494a15f814",
   "metadata": {},
   "outputs": [],
   "source": []
  },
  {
   "cell_type": "code",
   "execution_count": null,
   "id": "85ad863e-d0f5-42be-bdb9-3752a76a76bc",
   "metadata": {
    "tags": []
   },
   "outputs": [],
   "source": [
    "# set de funciones."
   ]
  },
  {
   "cell_type": "code",
   "execution_count": null,
   "id": "6b06b2d1-313c-4f61-a41c-d5bf8d1cd570",
   "metadata": {},
   "outputs": [],
   "source": [
    "def get_week_of_month(year, month, day):\n",
    "    x = np.array(cl.monthcalendar(year, month))\n",
    "    week_of_month = np.where(x==day)[0][0] + 1\n",
    "    return(week_of_month)"
   ]
  },
  {
   "cell_type": "code",
   "execution_count": null,
   "id": "bacae52f-8eb4-47b7-b273-2d712386d6f2",
   "metadata": {},
   "outputs": [],
   "source": [
    "def array_lunes(year, month):\n",
    "    a = np.array(cl.monthcalendar(year, month))\n",
    "    return [ m[0] for m in x ]"
   ]
  },
  {
   "cell_type": "code",
   "execution_count": null,
   "id": "17707046-29fa-4c18-abd3-8951e03a6ef2",
   "metadata": {},
   "outputs": [],
   "source": [
    "def lunes_semana(year, month, day):\n",
    "    month_week = get_week_of_month(year, month, day)\n",
    "    mondays = array_lunes(year, month)\n",
    "    return mondays[month_week-1]"
   ]
  },
  {
   "cell_type": "code",
   "execution_count": null,
   "id": "faa9ab6f-2a1b-4383-8423-c28c644964e3",
   "metadata": {},
   "outputs": [],
   "source": [
    "# Calcular día de la semana para un determinado número de día"
   ]
  },
  {
   "cell_type": "code",
   "execution_count": null,
   "id": "3bd703ee-4fb1-4359-b3b1-a4348490339e",
   "metadata": {},
   "outputs": [],
   "source": [
    "# cl.weekday(year, month, day)"
   ]
  },
  {
   "cell_type": "code",
   "execution_count": null,
   "id": "70ce126b-4c69-4f2f-84c2-746dfe888ec4",
   "metadata": {},
   "outputs": [],
   "source": []
  },
  {
   "cell_type": "code",
   "execution_count": null,
   "id": "e4a1b09f-cbc1-442a-89fb-c1950fd5b1cc",
   "metadata": {},
   "outputs": [],
   "source": []
  },
  {
   "cell_type": "code",
   "execution_count": null,
   "id": "3b4d20e1-03ec-46d3-adb6-34b0a80847c5",
   "metadata": {},
   "outputs": [],
   "source": [
    "# FLUJO"
   ]
  },
  {
   "cell_type": "code",
   "execution_count": null,
   "id": "6fa35c40-91d5-4bce-805b-17aeb445edee",
   "metadata": {},
   "outputs": [],
   "source": [
    "Datos:     Fecha de inicio - Fecha de fin - Código de práctica\n",
    "DataSets:  Base OP Pami - App Visitas - Códigos txt"
   ]
  },
  {
   "cell_type": "code",
   "execution_count": null,
   "id": "9a39fec9-10ca-41e4-880d-82bad84e3a8d",
   "metadata": {},
   "outputs": [],
   "source": []
  },
  {
   "cell_type": "code",
   "execution_count": null,
   "id": "d3b02e83-ae8b-4e9f-b208-9614211da4c9",
   "metadata": {},
   "outputs": [],
   "source": [
    "- con la fecha de inicio busco en la app visita según código correspondiente todos los registros.\n",
    "- examino los registros: total - semanas ocupadas - cantidad en cada semana - días ocupados"
   ]
  },
  {
   "cell_type": "code",
   "execution_count": null,
   "id": "8e87ddc4-03ba-4af1-a33d-f28adc5cfa8d",
   "metadata": {},
   "outputs": [],
   "source": []
  },
  {
   "cell_type": "code",
   "execution_count": null,
   "id": "a734ab84-2016-4abb-93ca-dbfae1382a56",
   "metadata": {},
   "outputs": [],
   "source": []
  },
  {
   "cell_type": "code",
   "execution_count": null,
   "id": "1e11788d-f1c3-47af-9605-a88a99f856e4",
   "metadata": {},
   "outputs": [],
   "source": []
  }
 ],
 "metadata": {
  "kernelspec": {
   "display_name": "Python 3",
   "language": "python",
   "name": "python3"
  },
  "language_info": {
   "codemirror_mode": {
    "name": "ipython",
    "version": 3
   },
   "file_extension": ".py",
   "mimetype": "text/x-python",
   "name": "python",
   "nbconvert_exporter": "python",
   "pygments_lexer": "ipython3",
   "version": "3.8.8"
  }
 },
 "nbformat": 4,
 "nbformat_minor": 5
}
