{
 "cells": [
  {
   "cell_type": "code",
   "execution_count": 3,
   "metadata": {},
   "outputs": [],
   "source": [
    "import pandas \n",
    "import numpy as np\n",
    "import cx_Oracle\n",
    "\n",
    "sql =       \"select psnid SPO_ID, \"\n",
    "sql = sql + \" case when length(PSNCUIP) = 11 then PSNCUIP  \"\n",
    "sql = sql + \"  else null \"\n",
    "sql = sql + \"    end SPO_CUIT ,\"\n",
    "sql = sql + \"   PTDID TIPO_DOC,\"\n",
    "sql = sql + \"   PSNNUMERODOCUMENTO NRO_DOC, \"\n",
    "sql = sql + \"   PSNDENOMINACION||' '||PSNNOMBRE  SPO_DENOMINACION, \"\n",
    "sql = sql + \"  decode (PTPID,2,'F',3,'J')  SPO_TIPO_SUJETO_PASIVO, \"\n",
    "sql = sql + \"  NULL NRO_CTA,NULL DOMINIO,NULL INS_ID,NULL NRO_LOTE  \"\n",
    "sql = sql + \"  from antprod.personas@antprod p \"\n",
    "sql = sql + \"  where exists ( \"\n",
    "sql = sql + \"  select 1 from antprod.objetos@antprod o join antprod.vinculos_persona_objeto@antprod \"\n",
    "sql = sql + \"  v on o.ojtid=v.ojtid  where o.otpid in (241,5,6) and p.psnid=v.psnid)\"\n",
    "sql = sql + \"  and not exists ( select 1 from audantprod.aud_personas b \"\n",
    "sql = sql + \"   inner join migracion.corridas c on b.id_corrida = c.id_corrida \"\n",
    "sql = sql + \"   where b.psnid= p.psnid and b.id_pc not in (118,119,120,121,122,123,124,125)) \"\n",
    "sql = sql + \"   and not exists(select 1 from personas_cuitificadas c where p.psnid=c.psnid) \"\n",
    "\n",
    "con = cx_Oracle.connect('<<username>>/<<password>>@<<host>>/<<database>>')\n",
    "dataset = pandas.read_sql(sql , con)\n",
    "con.close()\n",
    "\n",
    "dataset[\"NRO_DOC\"] = dataset[\"NRO_DOC\"].replace(np.nan, 0)\n",
    "dataset[\"NRO_DOC\"] = dataset['NRO_DOC'].astype(np.int64)\n",
    "\n",
    "dataset.to_csv('sujetos_a_cuitificar.csv', encoding='utf-8', index=False, sep='\\t')"
   ]
  }
 ],
 "metadata": {
  "anaconda-cloud": {},
  "kernelspec": {
   "display_name": "Python 3",
   "language": "python",
   "name": "python3"
  },
  "language_info": {
   "codemirror_mode": {
    "name": "ipython",
    "version": 3
   },
   "file_extension": ".py",
   "mimetype": "text/x-python",
   "name": "python",
   "nbconvert_exporter": "python",
   "pygments_lexer": "ipython3",
   "version": "3.6.9"
  }
 },
 "nbformat": 4,
 "nbformat_minor": 2
}
