{
 "cells": [
  {
   "cell_type": "code",
   "execution_count": 34,
   "metadata": {},
   "outputs": [],
   "source": [
    "import pandas \n",
    "import cx_Oracle\n",
    "import numpy as np\n",
    "import matplotlib.pyplot as plt"
   ]
  },
  {
   "cell_type": "code",
   "execution_count": 35,
   "metadata": {
    "tags": []
   },
   "outputs": [
    {
     "data": {
      "image/png": "[encoded data removed]",
      "text/plain": [
       "<Figure size 432x288 with 1 Axes>"
      ]
     },
     "metadata": {
      "needs_background": "light"
     },
     "output_type": "display_data"
    },
    {
     "name": "stdout",
     "output_type": "stream",
     "text": [
      "Promedio diario: 16297\n",
      "Maximo: 137882 registros\n",
      "El job esta configurado para procesar 57600 registros diarios\n"
     ]
    }
   ],
   "source": [
    "\n",
    "sql =       \"select to_char(SPV_FECHA_TRANSACCION,'DD/MM/YYYY') as Fecha ,count(*)as cantidad \"\n",
    "sql = sql + \" from tax.sujetos_pasivos_eventos@tax  \"\n",
    "sql = sql + \" group by to_char(SPV_FECHA_TRANSACCION,'DD/MM/YYYY') \"\n",
    "sql = sql + \"order by to_date(to_char(SPV_FECHA_TRANSACCION,'DD/MM/YYYY'),'DD/MM/YYYY') desc \"\n",
    "\n",
    "con = cx_Oracle.connect('nivel1/MIGRADORES@10.250.2.147:1521/moremigd')\n",
    "dataset = pandas.read_sql(sql , con)\n",
    "con.close()\n",
    "\n",
    "datos = pd.DataFrame(dataset[:20])\n",
    "\n",
    "ax = datos.plot.bar(\"FECHA\", \"CANTIDAD\")\n",
    "\n",
    "for i, bar in enumerate(ax.patches):\n",
    "    ax.text(bar.get_x() + bar.get_width() / 2, bar.get_height() + 400,\n",
    "            datos['CANTIDAD'][i],\n",
    "            horizontalalignment= 'center', verticalalignment='bottom',\n",
    "            fontsize=10, rotation=90, color='dimgrey')\n",
    "\n",
    "ax.set_xlabel(\"Fecha\")\n",
    "ax.set_ylabel(\"Numero de modificaciones\")\n",
    "plt.title(\"Modificaciones diarias por fecha en TAX\")\n",
    "ax.margins(x=0, y=0.3)\n",
    "\n",
    "plt.show()\n",
    "\n",
    "# Datos estadisticos\n",
    "\n",
    "Promedio = int(np.average(datos[\"CANTIDAD\"]))\n",
    "\n",
    "print(\"Promedio diario: \"+ str(Promedio))\n",
    "\n",
    "Max = np.max(datos[\"CANTIDAD\"])\n",
    "\n",
    "print(\"Maximo: \"+ str(Max) + \" registros\")     \n",
    "\n",
    "# El job procesa en 1 minuto 40 registros entonces en 1 dia = 1440 minutos \n",
    "\n",
    "Registros=    int((40 * 1440) / 1)\n",
    "\n",
    "print(\"El job esta configurado para procesar \"+ str(Registros) + \" registros diarios\")     \n",
    "\n"
   ]
  },
  {
   "cell_type": "code",
   "execution_count": 331,
   "metadata": {},
   "outputs": [],
   "source": [
    "def suma(num1,num2):\n",
    "    print(num1+num2)\n"
   ]
  },
  {
   "cell_type": "code",
   "execution_count": 332,
   "metadata": {},
   "outputs": [
    {
     "name": "stdout",
     "output_type": "stream",
     "text": [
      "10\n"
     ]
    }
   ],
   "source": [
    "suma(4,6)"
   ]
  },
  {
   "cell_type": "code",
   "execution_count": 288,
   "metadata": {},
   "outputs": [],
   "source": [
    "elem1= \"auto\"\n",
    "elem2= \"bici\"\n",
    "elem3= \"moto\""
   ]
  },
  {
   "cell_type": "code",
   "execution_count": 304,
   "metadata": {
    "scrolled": true
   },
   "outputs": [
    {
     "name": "stdout",
     "output_type": "stream",
     "text": [
      "('auto', 'bici', 'moto')\n",
      "['auto', 'bici', 'moto']\n",
      "('auto', 'bici', 'moto')\n",
      "True\n",
      "3\n"
     ]
    }
   ],
   "source": [
    "vehiculos= (elem1,elem2,elem3)\n",
    "vehiculoslista= list(vehiculos)\n",
    "vehiculostupla=tuple(vehiculoslista)\n",
    "print (vehiculos)\n",
    "print(vehiculoslista)\n",
    "print(vehiculostupla)\n",
    "print(\"auto\" in vehiculostupla)\n",
    "\n",
    "\n",
    "#print len nos da la longitud de la tupla\n",
    "print (len(vehiculostupla))\n",
    "\n"
   ]
  },
  {
   "cell_type": "code",
   "execution_count": 325,
   "metadata": {},
   "outputs": [
    {
     "name": "stdout",
     "output_type": "stream",
     "text": [
      "Madrid\n",
      "{'Alemania': 'Berlin', 'Francia': 'Paris', 'Reino Unido': 'Lonres', 'España': 'Madrid', 'Italia': 'Lisboa'}\n",
      "{'Alemania': 'Berlin', 'Francia': 'Paris', 'Reino Unido': 'Lonres', 'España': 'Madrid', 'Italia': 'Roma'}\n",
      "{'Alemania': 'Berlin', 'Francia': 'Paris', 'España': 'Madrid', 'Italia': 'Roma'}\n"
     ]
    }
   ],
   "source": [
    "#creacion de diccionarios clave:valor\n",
    "\n",
    "midiccionario= {\"Alemania\":\"Berlin\",\"Francia\":\"Paris\",\"Reino Unido\":\"Lonres\",\"España\":\"Madrid\"}\n",
    "print(midiccionario[\"España\"])\n",
    "\n",
    "#Agregar un elemento\n",
    "midiccionario[\"Italia\"]=\"Lisboa\"\n",
    "\n",
    "print(midiccionario)\n",
    "\n",
    "#Modificar un elemento\n",
    "midiccionario[\"Italia\"]=\"Roma\"\n",
    "\n",
    "print(midiccionario)\n",
    "\n",
    "#borrar un elemento\n",
    "\n",
    "del midiccionario[\"Reino Unido\"]\n",
    "print(midiccionario)"
   ]
  },
  {
   "cell_type": "code",
   "execution_count": null,
   "metadata": {},
   "outputs": [],
   "source": [
    "#Crear lista dentro de diccionarios\n",
    "\n",
    "datos= {\"nombre\": \"dario\", \"nacimiento\": \"24/01/1991\", \"Deportes\":[\"futbol\",\"tenis\",\"ping pong\",\"natacion\"]}\n",
    "\n",
    "print(datos)\n",
    "\n",
    "print(datos[\"Deportes\"])\n"
   ]
  },
  {
   "cell_type": "code",
   "execution_count": 20,
   "metadata": {},
   "outputs": [
    {
     "name": "stdout",
     "output_type": "stream",
     "text": [
      "ingrese el primer valor\n",
      "None10\n",
      "ingrese el segundo valor\n",
      "None10\n",
      "son iguales\n"
     ]
    }
   ],
   "source": [
    "valor1=int(input(print(\"ingrese el primer valor\")))\n",
    "valor2=int(input(print(\"ingrese el segundo valor\")))\n",
    "\n",
    "def devuelvemax(valor1,valor2) :\n",
    "   if valor1>valor2 : \n",
    "        print(valor1)\n",
    "   elif valor2>valor1 :\n",
    "     print(valor2)\n",
    "   else :\n",
    "    print(\"son iguales\")\n",
    "  \n",
    "\n",
    "devuelvemax(valor1,valor2)\n",
    "    "
   ]
  },
  {
   "cell_type": "code",
   "execution_count": 68,
   "metadata": {},
   "outputs": [
    {
     "name": "stdout",
     "output_type": "stream",
     "text": [
      "introduce tu emaildario@\n",
      "email correcto\n"
     ]
    }
   ],
   "source": [
    "valido=False \n",
    "\n",
    "email = input(\"introduce tu email\")\n",
    "\n",
    "for i in range(len(email)) :\n",
    "    if email[i]==\"@\":\n",
    "        valido = True\n",
    "if valido :\n",
    "    print(\"email correcto\")\n",
    "else :\n",
    "    print(\"email incorrecto\")"
   ]
  },
  {
   "cell_type": "code",
   "execution_count": 4,
   "metadata": {},
   "outputs": [
    {
     "name": "stdout",
     "output_type": "stream",
     "text": [
      "introduzca la edad: -9\n",
      "Ingrese una edad positiva\n",
      "vuelva a introducir la edad: -87\n",
      "Ingrese una edad positiva\n",
      "vuelva a introducir la edad: 50\n",
      "edad correcta\n"
     ]
    }
   ],
   "source": [
    "edad= int(input(\"introduzca la edad: \"))\n",
    "intentos=0\n",
    "while edad <0 :\n",
    "    print(\"Ingrese una edad positiva\")\n",
    "    edad= int(input(\"vuelva a introducir la edad: \"))\n",
    "    intentos= intentos +1\n",
    "    if intentos==2 and edad <0:\n",
    "        print(\"has exedido los intentos\")\n",
    "        break;\n",
    "print(\"edad correcta\")    \n"
   ]
  }
 ],
 "metadata": {
  "kernelspec": {
   "display_name": "Python 3",
   "language": "python",
   "name": "python3"
  },
  "language_info": {
   "codemirror_mode": {
    "name": "ipython",
    "version": 3
   },
   "file_extension": ".py",
   "mimetype": "text/x-python",
   "name": "python",
   "nbconvert_exporter": "python",
   "pygments_lexer": "ipython3",
   "version": "3.8.8"
  }
 },
 "nbformat": 4,
 "nbformat_minor": 4
}
